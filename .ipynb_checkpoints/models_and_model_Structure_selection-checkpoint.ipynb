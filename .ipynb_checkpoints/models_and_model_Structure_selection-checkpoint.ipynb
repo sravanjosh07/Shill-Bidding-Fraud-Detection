{
 "cells": [
  {
   "cell_type": "code",
   "execution_count": 44,
   "id": "db02c9c3",
   "metadata": {},
   "outputs": [],
   "source": [
    "import pandas as pd\n",
    "import seaborn as sns\n",
    "import matplotlib.pyplot as plt\n",
    "import numpy as np\n",
    "import keras\n",
    "import warnings\n",
    "\n",
    "from sklearn.preprocessing import StandardScaler\n",
    "from sklearn.preprocessing import OneHotEncoder\n",
    "from sklearn.preprocessing import label_binarize\n",
    "from sklearn.model_selection import RandomizedSearchCV\n",
    "from sklearn.preprocessing import MinMaxScaler\n",
    "from hpelm import ELM\n",
    "from sklearn.ensemble import RandomForestClassifier\n",
    "from sklearn.neighbors import KNeighborsClassifier\n",
    "from sklearn.model_selection import train_test_split\n",
    "from sklearn.svm import SVC\n",
    "from sklearn.metrics import classification_report, confusion_matrix, auc, accuracy_score\n",
    "warnings.filterwarnings(\"ignore\")"
   ]
  },
  {
   "cell_type": "code",
   "execution_count": 2,
   "id": "5b009ff5",
   "metadata": {},
   "outputs": [
    {
     "data": {
      "text/html": [
       "<div>\n",
       "<style scoped>\n",
       "    .dataframe tbody tr th:only-of-type {\n",
       "        vertical-align: middle;\n",
       "    }\n",
       "\n",
       "    .dataframe tbody tr th {\n",
       "        vertical-align: top;\n",
       "    }\n",
       "\n",
       "    .dataframe thead th {\n",
       "        text-align: right;\n",
       "    }\n",
       "</style>\n",
       "<table border=\"1\" class=\"dataframe\">\n",
       "  <thead>\n",
       "    <tr style=\"text-align: right;\">\n",
       "      <th></th>\n",
       "      <th>Bidder_ID</th>\n",
       "      <th>Bidder_Tendency</th>\n",
       "      <th>Bidding_Ratio</th>\n",
       "      <th>Successive_Outbidding</th>\n",
       "      <th>Last_Bidding</th>\n",
       "      <th>Auction_Bids</th>\n",
       "      <th>Starting_Price_Average</th>\n",
       "      <th>Early_Bidding</th>\n",
       "      <th>Winning_Ratio</th>\n",
       "      <th>Auction_Duration</th>\n",
       "      <th>Class</th>\n",
       "    </tr>\n",
       "    <tr>\n",
       "      <th>Auction_ID</th>\n",
       "      <th></th>\n",
       "      <th></th>\n",
       "      <th></th>\n",
       "      <th></th>\n",
       "      <th></th>\n",
       "      <th></th>\n",
       "      <th></th>\n",
       "      <th></th>\n",
       "      <th></th>\n",
       "      <th></th>\n",
       "      <th></th>\n",
       "    </tr>\n",
       "  </thead>\n",
       "  <tbody>\n",
       "    <tr>\n",
       "      <th>732</th>\n",
       "      <td>_***i</td>\n",
       "      <td>0.200000</td>\n",
       "      <td>0.400000</td>\n",
       "      <td>0.0</td>\n",
       "      <td>0.000028</td>\n",
       "      <td>0.0</td>\n",
       "      <td>0.993593</td>\n",
       "      <td>0.000028</td>\n",
       "      <td>0.666667</td>\n",
       "      <td>0.444444</td>\n",
       "      <td>0</td>\n",
       "    </tr>\n",
       "    <tr>\n",
       "      <th>732</th>\n",
       "      <td>g***r</td>\n",
       "      <td>0.024390</td>\n",
       "      <td>0.200000</td>\n",
       "      <td>0.0</td>\n",
       "      <td>0.013123</td>\n",
       "      <td>0.0</td>\n",
       "      <td>0.993593</td>\n",
       "      <td>0.013123</td>\n",
       "      <td>0.944444</td>\n",
       "      <td>0.444444</td>\n",
       "      <td>0</td>\n",
       "    </tr>\n",
       "    <tr>\n",
       "      <th>732</th>\n",
       "      <td>t***p</td>\n",
       "      <td>0.142857</td>\n",
       "      <td>0.200000</td>\n",
       "      <td>0.0</td>\n",
       "      <td>0.003042</td>\n",
       "      <td>0.0</td>\n",
       "      <td>0.993593</td>\n",
       "      <td>0.003042</td>\n",
       "      <td>1.000000</td>\n",
       "      <td>0.444444</td>\n",
       "      <td>0</td>\n",
       "    </tr>\n",
       "    <tr>\n",
       "      <th>732</th>\n",
       "      <td>7***n</td>\n",
       "      <td>0.100000</td>\n",
       "      <td>0.200000</td>\n",
       "      <td>0.0</td>\n",
       "      <td>0.097477</td>\n",
       "      <td>0.0</td>\n",
       "      <td>0.993593</td>\n",
       "      <td>0.097477</td>\n",
       "      <td>1.000000</td>\n",
       "      <td>0.444444</td>\n",
       "      <td>0</td>\n",
       "    </tr>\n",
       "    <tr>\n",
       "      <th>900</th>\n",
       "      <td>z***z</td>\n",
       "      <td>0.051282</td>\n",
       "      <td>0.222222</td>\n",
       "      <td>0.0</td>\n",
       "      <td>0.001318</td>\n",
       "      <td>0.0</td>\n",
       "      <td>0.000000</td>\n",
       "      <td>0.001242</td>\n",
       "      <td>0.500000</td>\n",
       "      <td>0.666667</td>\n",
       "      <td>0</td>\n",
       "    </tr>\n",
       "  </tbody>\n",
       "</table>\n",
       "</div>"
      ],
      "text/plain": [
       "           Bidder_ID  Bidder_Tendency  Bidding_Ratio  Successive_Outbidding  \\\n",
       "Auction_ID                                                                    \n",
       "732            _***i         0.200000       0.400000                    0.0   \n",
       "732            g***r         0.024390       0.200000                    0.0   \n",
       "732            t***p         0.142857       0.200000                    0.0   \n",
       "732            7***n         0.100000       0.200000                    0.0   \n",
       "900            z***z         0.051282       0.222222                    0.0   \n",
       "\n",
       "            Last_Bidding  Auction_Bids  Starting_Price_Average  Early_Bidding  \\\n",
       "Auction_ID                                                                      \n",
       "732             0.000028           0.0                0.993593       0.000028   \n",
       "732             0.013123           0.0                0.993593       0.013123   \n",
       "732             0.003042           0.0                0.993593       0.003042   \n",
       "732             0.097477           0.0                0.993593       0.097477   \n",
       "900             0.001318           0.0                0.000000       0.001242   \n",
       "\n",
       "            Winning_Ratio  Auction_Duration  Class  \n",
       "Auction_ID                                          \n",
       "732              0.666667          0.444444      0  \n",
       "732              0.944444          0.444444      0  \n",
       "732              1.000000          0.444444      0  \n",
       "732              1.000000          0.444444      0  \n",
       "900              0.500000          0.666667      0  "
      ]
     },
     "execution_count": 2,
     "metadata": {},
     "output_type": "execute_result"
    }
   ],
   "source": [
    "data = pd.read_csv(\"Group_14_data_cleaned.csv\", index_col=0)\n",
    "data.head()"
   ]
  },
  {
   "cell_type": "code",
   "execution_count": 3,
   "id": "ffe035a6",
   "metadata": {
    "scrolled": false
   },
   "outputs": [
    {
     "data": {
      "text/plain": [
       "0    5646\n",
       "1     675\n",
       "Name: Class, dtype: int64"
      ]
     },
     "execution_count": 3,
     "metadata": {},
     "output_type": "execute_result"
    }
   ],
   "source": [
    "data['Class'].value_counts()"
   ]
  },
  {
   "cell_type": "code",
   "execution_count": 4,
   "id": "9fbdf4d9",
   "metadata": {},
   "outputs": [],
   "source": [
    "# Split the data into training and testing sets\n",
    "X = data.drop(['Class', 'Bidder_ID'], axis=1)\n",
    "y = data['Class']\n",
    "\n",
    "# Split the data into training and testing sets\n",
    "X_train, X_test, y_train, y_test = train_test_split(X, y, test_size=0.2, random_state=42)"
   ]
  },
  {
   "cell_type": "markdown",
   "id": "a7ae0efe",
   "metadata": {},
   "source": [
    "# ELM"
   ]
  },
  {
   "cell_type": "code",
   "execution_count": 31,
   "id": "9b95f7d1",
   "metadata": {},
   "outputs": [],
   "source": [
    "class ELMClassifier:\n",
    "    def __init__(self, n_hidden=512, activation=\"tanh\", n_classes=2):\n",
    "        self.n_hidden = n_hidden\n",
    "        self.activation = activation\n",
    "        self.n_classes = n_classes\n",
    "        self.elm = ELM(inputs=X_train.shape[1], outputs=2, classification=\"c\")\n",
    "        self.elm.add_neurons(n_hidden, activation)\n",
    "\n",
    "    def fit(self, X, y):\n",
    "        y_bin = label_binarize(y, classes=range(self.n_classes))\n",
    "        self.elm.train(X, y_bin)\n",
    "\n",
    "    def predict(self, X):\n",
    "        y_pred = self.elm.predict(X)\n",
    "        return np.argmax(y_pred, axis=1)\n",
    "\n",
    "    def predict_proba(self, X):\n",
    "        y_pred = self.elm.predict(X)\n",
    "        return y_pred\n",
    "\n",
    "    def score(self, X, y):\n",
    "        y_pred = self.predict(X)\n",
    "        return accuracy_score(y, y_pred)\n",
    "\n",
    "    def get_params(self, deep=True):\n",
    "        return {'n_hidden': self.n_hidden, 'activation': self.activation, 'batch': self.batch, 'n_classes': self.n_classes}\n",
    "\n",
    "    def set_params(self, **params):\n",
    "        for param, value in params.items():\n",
    "            setattr(self, param, value)\n",
    "        return self\n"
   ]
  },
  {
   "cell_type": "code",
   "execution_count": 32,
   "id": "fb41a55c",
   "metadata": {},
   "outputs": [
    {
     "name": "stdout",
     "output_type": "stream",
     "text": [
      "Accuracy: 0.9873517786561264\n",
      "[[1122   11]\n",
      " [   5  127]]\n",
      "              precision    recall  f1-score   support\n",
      "\n",
      "           0       1.00      0.99      0.99      1133\n",
      "           1       0.92      0.96      0.94       132\n",
      "\n",
      "    accuracy                           0.99      1265\n",
      "   macro avg       0.96      0.98      0.97      1265\n",
      "weighted avg       0.99      0.99      0.99      1265\n",
      "\n"
     ]
    }
   ],
   "source": [
    "from sklearn.preprocessing import StandardScaler\n",
    "from sklearn.preprocessing import OneHotEncoder\n",
    "\n",
    "\n",
    "# Split the data into training and testing sets\n",
    "X_train, X_test, y_train, y_test = train_test_split(X, y, test_size=0.2, random_state=42)\n",
    "# Scale the training and testing data\n",
    "scaler = StandardScaler()\n",
    "X_train_scaled = scaler.fit_transform(X_train)\n",
    "X_test_scaled = scaler.transform(X_test)\n",
    "\n",
    "y_train = y_train.values\n",
    "y_test = y_test.values\n",
    "\n",
    "# One-hot encode the target variable\n",
    "encoder = OneHotEncoder()\n",
    "y_train_encoded = encoder.fit_transform(y_train.reshape(-1, 1)).toarray()\n",
    "y_test_encoded = encoder.transform(y_test.reshape(-1, 1)).toarray()\n",
    "\n",
    "# Train and evaluate the ELM model on the scaled data\n",
    "elm_classifier = ELMClassifier()\n",
    "elm_classifier.fit(X_train_scaled, y_train_encoded)\n",
    "score = elm_classifier.score(X_test_scaled, y_test)\n",
    "print(\"Accuracy:\", score)\n",
    "\n",
    "\n",
    "# Get the predicted labels and convert them back from one-hot encoding\n",
    "y_pred_encoded = elm_classifier.predict_proba(X_test_scaled)\n",
    "y_pred = np.argmax(y_pred_encoded, axis=1)\n",
    "\n",
    "# Get the true labels and convert them back from one-hot encoding\n",
    "y_true = np.argmax(y_test_encoded, axis=1)\n",
    "\n",
    "# Calculate the confusion matrix\n",
    "conf_matrix = confusion_matrix(y_true, y_pred)\n",
    "print(conf_matrix)\n",
    "print(classification_report(y_test, y_pred))\n",
    "\n"
   ]
  },
  {
   "cell_type": "code",
   "execution_count": 39,
   "id": "b35198d8",
   "metadata": {
    "scrolled": true
   },
   "outputs": [
    {
     "name": "stdout",
     "output_type": "stream",
     "text": [
      "Neurons: 16 Accuracy: 0.9557312252964427\n",
      "Neurons: 32 Accuracy: 0.9675889328063241\n",
      "Neurons: 64 Accuracy: 0.9731225296442688\n",
      "Neurons: 128 Accuracy: 0.9778656126482214\n",
      "Neurons: 256 Accuracy: 0.9818181818181818\n",
      "Neurons: 512 Accuracy: 0.9873517786561264\n",
      "Neurons: 1024 Accuracy: 0.9857707509881423\n",
      "{'best_score': 0.9873517786561264, 'best_neurons': 512}\n"
     ]
    },
    {
     "data": {
      "image/png": "[encoded data removed]",
      "text/plain": [
       "<Figure size 640x480 with 1 Axes>"
      ]
     },
     "metadata": {},
     "output_type": "display_data"
    }
   ],
   "source": [
    "# Split the data into training and testing sets\n",
    "X_train, X_test, y_train, y_test = train_test_split(X, y, test_size=0.2, random_state=42)\n",
    "# Scale the training and testing data\n",
    "scaler = StandardScaler()\n",
    "X_train_scaled = scaler.fit_transform(X_train)\n",
    "X_test_scaled = scaler.transform(X_test)\n",
    "\n",
    "y_train = y_train.values\n",
    "y_test = y_test.values\n",
    "\n",
    "\n",
    "# One-hot encode the target variable\n",
    "encoder = OneHotEncoder()\n",
    "y_train_encoded = encoder.fit_transform(y_train.reshape(-1, 1)).toarray()\n",
    "y_test_encoded = encoder.transform(y_test.reshape(-1, 1)).toarray()\n",
    "\n",
    "\n",
    "n_neurons = [16, 32, 64, 128, 256, 512, 1024]\n",
    "scores = []\n",
    "\n",
    "for neurons in n_neurons:\n",
    "    # Train and evaluate the ELM model on the scaled data\n",
    "    elm_classifier = ELMClassifier(n_hidden=neurons)\n",
    "    elm_classifier.fit(X_train_scaled, y_train_encoded)\n",
    "    score = elm_classifier.score(X_test_scaled, y_test)\n",
    "    print(\"Neurons:\", neurons, \"Accuracy:\", score)\n",
    "    scores.append(score)\n",
    "\n",
    "best_score = max(scores)\n",
    "best_neurons = n_neurons[scores.index(best_score)]\n",
    "result = {'best_score': best_score, 'best_neurons': best_neurons}\n",
    "print(result)\n",
    "\n",
    "# Plot the scores with the number of neurons\n",
    "plt.plot(n_neurons, scores)\n",
    "plt.xlabel('Number of neurons')\n",
    "plt.ylabel('Accuracy')\n",
    "plt.title('ELM accuracy vs. number of neurons')\n",
    "plt.show()\n"
   ]
  },
  {
   "cell_type": "markdown",
   "id": "12a5b5ae",
   "metadata": {},
   "source": [
    "We can see that ELM performs the best for number of neurons: 512 and the score reduces by increasing the number of neurons further. "
   ]
  },
  {
   "cell_type": "markdown",
   "id": "4963d99f",
   "metadata": {},
   "source": [
    "# Training with best parameters"
   ]
  },
  {
   "cell_type": "code",
   "execution_count": 41,
   "id": "000c72f6",
   "metadata": {},
   "outputs": [
    {
     "name": "stdout",
     "output_type": "stream",
     "text": [
      "Accuracy: 0.9865612648221344\n",
      "[[1120   13]\n",
      " [   4  128]]\n",
      "              precision    recall  f1-score   support\n",
      "\n",
      "           0       1.00      0.99      0.99      1133\n",
      "           1       0.91      0.97      0.94       132\n",
      "\n",
      "    accuracy                           0.99      1265\n",
      "   macro avg       0.95      0.98      0.97      1265\n",
      "weighted avg       0.99      0.99      0.99      1265\n",
      "\n"
     ]
    }
   ],
   "source": [
    "# Train and evaluate the ELM model on the scaled data\n",
    "elm_classifier = ELMClassifier(n_hidden=512)\n",
    "elm_classifier.fit(X_train_scaled, y_train_encoded)\n",
    "score = elm_classifier.score(X_test_scaled, y_test)\n",
    "print(\"Accuracy:\", score)\n",
    "\n",
    "\n",
    "# Get the predicted labels and convert them back from one-hot encoding\n",
    "y_pred_encoded = elm_classifier.predict_proba(X_test_scaled)\n",
    "y_pred = np.argmax(y_pred_encoded, axis=1)\n",
    "\n",
    "# Get the true labels and convert them back from one-hot encoding\n",
    "y_true = np.argmax(y_test_encoded, axis=1)\n",
    "\n",
    "# Calculate the confusion matrix\n",
    "conf_matrix = confusion_matrix(y_true, y_pred)\n",
    "print(conf_matrix)\n",
    "print(classification_report(y_test, y_pred))"
   ]
  },
  {
   "cell_type": "markdown",
   "id": "b72a015d",
   "metadata": {},
   "source": [
    "## SVM with Linear Kernel "
   ]
  },
  {
   "cell_type": "code",
   "execution_count": 46,
   "id": "7f86b9a6",
   "metadata": {},
   "outputs": [
    {
     "name": "stdout",
     "output_type": "stream",
     "text": [
      "Best hyperparameters:  {'C': 2.209602254061174, 'gamma': 3.935350823412439, 'kernel': 'linear'}\n",
      "AUC score:  0.9849473524897286\n"
     ]
    }
   ],
   "source": [
    "from sklearn.metrics import make_scorer, roc_auc_score\n",
    "\n",
    "# Define AUC as a scoring metric\n",
    "auc_scorer = make_scorer(roc_auc_score)\n",
    "\n",
    "# RANDOM SEARCH FOR 20 COMBINATIONS OF PARAMETERS\n",
    "rand_list = {\"C\": stats.uniform(2, 10),\n",
    "             \"gamma\": stats.uniform(0.1, 5),\n",
    "             'kernel': ['linear']}\n",
    "\n",
    "rand_search = RandomizedSearchCV(SVC(), \n",
    "                                 param_distributions=rand_list, \n",
    "                                 n_iter=50, \n",
    "                                 n_jobs=4, \n",
    "                                 cv=3, \n",
    "                                 random_state=2017, \n",
    "                                 scoring=auc_scorer) \n",
    "rand_search.fit(X_train, y_train)\n",
    "\n",
    "# Print the best hyperparameters and the corresponding accuracy score\n",
    "print(\"Best hyperparameters: \", rand_search.best_params_)\n",
    "print(\"AUC score: \", rand_search.best_score_)\n"
   ]
  },
  {
   "cell_type": "code",
   "execution_count": 47,
   "id": "ab9be25f",
   "metadata": {},
   "outputs": [
    {
     "name": "stdout",
     "output_type": "stream",
     "text": [
      "[[1103   30]\n",
      " [   2  130]]\n",
      "              precision    recall  f1-score   support\n",
      "\n",
      "           0       1.00      0.97      0.99      1133\n",
      "           1       0.81      0.98      0.89       132\n",
      "\n",
      "    accuracy                           0.97      1265\n",
      "   macro avg       0.91      0.98      0.94      1265\n",
      "weighted avg       0.98      0.97      0.98      1265\n",
      "\n"
     ]
    }
   ],
   "source": [
    "# Use the best hyperparameters to create a new SVM model\n",
    "best_svm_model = SVC(C=rand_search.best_params_['C'], kernel=rand_search.best_params_['kernel'], gamma=rand_search.best_params_['gamma'])\n",
    "\n",
    "# Train the new SVM model using the training data\n",
    "best_svm_model.fit(X_train, y_train)\n",
    "\n",
    "# Use the trained classifier to predict the class labels for the test data\n",
    "y_pred = best_svm_model.predict(X_test)\n",
    "\n",
    "\n",
    "# Evaluate the classifier's performance on the test data\n",
    "print(confusion_matrix(y_test, y_pred))\n",
    "print(classification_report(y_test, y_pred))"
   ]
  },
  {
   "cell_type": "markdown",
   "id": "045f168e",
   "metadata": {},
   "source": [
    "## SVM with non linear kernel"
   ]
  },
  {
   "cell_type": "code",
   "execution_count": 49,
   "id": "2b958a42",
   "metadata": {},
   "outputs": [
    {
     "name": "stdout",
     "output_type": "stream",
     "text": [
      "Best hyperparameters:  {'C': 18.52669390630025, 'gamma': 0.2563640674119393, 'kernel': 'rbf'}\n",
      "Accuracy score:  0.9932756288184654\n"
     ]
    }
   ],
   "source": [
    "from sklearn.svm import SVC\n",
    "from scipy import stats\n",
    "from sklearn.model_selection import RandomizedSearchCV\n",
    "\n",
    "# Define the model\n",
    "svm_model = SVC()\n",
    "\n",
    "# Define the hyperparameters to search over\n",
    "rand_list = {\"C\": stats.uniform(2, 100),\n",
    "             \"gamma\": stats.uniform(0.1, 10),\n",
    "             'kernel': ['rbf', 'poly']}\n",
    "\n",
    "# Perform the randomized search\n",
    "rand_search = RandomizedSearchCV(svm_model, param_distributions=rand_list, n_iter=50, n_jobs=-1, cv=3, random_state=42, scoring='accuracy')\n",
    "rand_search.fit(X_train_scaled, y_train)\n",
    "\n",
    "# Print the best hyperparameters and the corresponding accuracy score\n",
    "print(\"Best hyperparameters: \", rand_search.best_params_)\n",
    "print(\"Accuracy score: \", rand_search.best_score_)\n",
    "\n"
   ]
  },
  {
   "cell_type": "code",
   "execution_count": 51,
   "id": "36eff0f6",
   "metadata": {},
   "outputs": [
    {
     "name": "stdout",
     "output_type": "stream",
     "text": [
      "[[1115   18]\n",
      " [   7  125]]\n",
      "              precision    recall  f1-score   support\n",
      "\n",
      "           0       0.99      0.98      0.99      1133\n",
      "           1       0.87      0.95      0.91       132\n",
      "\n",
      "    accuracy                           0.98      1265\n",
      "   macro avg       0.93      0.97      0.95      1265\n",
      "weighted avg       0.98      0.98      0.98      1265\n",
      "\n"
     ]
    }
   ],
   "source": [
    "# Use the best hyperparameters to create a new SVM model\n",
    "best_svm_model = SVC(C=rand_search.best_params_['C'], kernel=rand_search.best_params_['kernel'], gamma=rand_search.best_params_['gamma'])\n",
    "\n",
    "# Train the new SVM model using the training data\n",
    "best_svm_model.fit(X_train, y_train)\n",
    "\n",
    "# Use the trained classifier to predict the class labels for the test data\n",
    "y_pred = best_svm_model.predict(X_test)\n",
    "\n",
    "# Evaluate the classifier's performance on the test data\n",
    "print(confusion_matrix(y_test, y_pred))\n",
    "print(classification_report(y_test, y_pred))\n"
   ]
  },
  {
   "cell_type": "markdown",
   "id": "3ccbd283",
   "metadata": {},
   "source": [
    "## Training a Neural Network"
   ]
  },
  {
   "cell_type": "code",
   "execution_count": null,
   "id": "237bf94a",
   "metadata": {
    "scrolled": true
   },
   "outputs": [],
   "source": [
    "from keras.models import Sequential\n",
    "from keras.layers import Dense\n",
    "from keras.wrappers.scikit_learn import KerasClassifier\n",
    "from sklearn.model_selection import RandomizedSearchCV\n",
    "from scipy.stats import randint as sp_randint\n",
    "\n",
    "\n",
    "# Define the neural network model\n",
    "def create_model(num_layers=1, num_neurons=10):\n",
    "    model = Sequential()\n",
    "    model.add(Dense(num_neurons, input_dim=X_train.shape[1], activation='relu'))\n",
    "    for i in range(num_layers):\n",
    "        model.add(Dense(num_neurons, activation='relu'))\n",
    "    model.add(Dense(1, activation='sigmoid'))\n",
    "    model.compile(loss='binary_crossentropy', optimizer='adam', metrics=['accuracy'])\n",
    "    return model\n",
    "\n",
    "# Create a KerasClassifier with fixed batch_size and epochs\n",
    "model = KerasClassifier(build_fn=create_model, epochs=10, verbose=2)\n",
    "\n",
    "# Define the hyperparameter distribution to search\n",
    "param_dist = {\n",
    "    'num_layers': [1,2,3],\n",
    "    'num_neurons': [8,16,32,64,128],\n",
    "}\n",
    "\n",
    "# Perform randomized search\n",
    "random_search = RandomizedSearchCV(estimator=model, param_distributions=param_dist, cv=3, n_iter=10)\n",
    "random_search_result = random_search.fit(X_train, y_train)\n",
    "\n",
    "# Print the results\n",
    "print(\"Best: %f using %s\" % (random_search_result.best_score_, random_search_result.best_params_))\n"
   ]
  },
  {
   "cell_type": "code",
   "execution_count": null,
   "id": "fc8e51fd",
   "metadata": {},
   "outputs": [],
   "source": [
    "# Best: 0.982199 using {'num_neurons': 64, 'num_layers': 2}"
   ]
  },
  {
   "cell_type": "markdown",
   "id": "c7209603",
   "metadata": {},
   "source": [
    "## Training the best architecture"
   ]
  },
  {
   "cell_type": "code",
   "execution_count": null,
   "id": "a92165e8",
   "metadata": {
    "scrolled": true
   },
   "outputs": [],
   "source": [
    "\n",
    "best_num_layers = random_search_result.best_params_[\"num_layers\"]\n",
    "best_num_neurons = random_search_result.best_params_[\"num_neurons\"]\n",
    "model = create_model(num_layers=best_num_layers, num_neurons=best_num_neurons)\n",
    "model.fit(X_train, y_train, epochs=50, verbose=2)\n"
   ]
  },
  {
   "cell_type": "code",
   "execution_count": null,
   "id": "88da9caa",
   "metadata": {},
   "outputs": [],
   "source": [
    "\n",
    "# Use the trained classifier to predict the class labels for the test data\n",
    "y_pred = model.predict(X_test)\n",
    "y_pred = np.round(y_pred)\n",
    "# Evaluate the classifier's performance on the test data\n",
    "print(confusion_matrix(y_test, y_pred))\n",
    "print(classification_report(y_test, y_pred))"
   ]
  },
  {
   "cell_type": "markdown",
   "id": "219d8c0e",
   "metadata": {},
   "source": [
    "Both SVM and Neural Network performs with a similar accuaracy. Neural network performs slightly better than non-linear SVM. "
   ]
  },
  {
   "cell_type": "code",
   "execution_count": null,
   "id": "30a526d7",
   "metadata": {},
   "outputs": [],
   "source": [
    "# Evaluate the model on the testing set\n",
    "loss, accuracy = model.evaluate(X_test, y_test)\n",
    "\n",
    "\n",
    "# Print the accuracy without rounding\n",
    "print(\"Accuracy: {:.4f}\".format(accuracy))"
   ]
  },
  {
   "cell_type": "markdown",
   "id": "18df1afa",
   "metadata": {},
   "source": [
    "# Variable Selection"
   ]
  },
  {
   "cell_type": "code",
   "execution_count": null,
   "id": "f5e1cf67",
   "metadata": {},
   "outputs": [],
   "source": [
    "from sklearn.linear_model import Lasso\n",
    "from sklearn.preprocessing import StandardScaler\n",
    "\n",
    "\n",
    "# Standardize the features using the StandardScaler\n",
    "scaler = StandardScaler()\n",
    "X_train = scaler.fit_transform(X_train)\n",
    "X_test = scaler.transform(X_test)\n",
    "\n",
    "# Fit a Lasso regression model on the training data\n",
    "alpha = 0.004  # regularization strength\n",
    "lasso = Lasso(alpha=alpha)\n",
    "lasso.fit(X_train, y_train)\n",
    "\n",
    "# Select the features with non-zero coefficients\n",
    "selected_features = X.columns[lasso.coef_ != 0]\n",
    "\n",
    "# Print the selected features\n",
    "print(\"Selected features:\", selected_features)\n"
   ]
  },
  {
   "cell_type": "code",
   "execution_count": null,
   "id": "f0459ae8",
   "metadata": {},
   "outputs": [],
   "source": [
    "from sklearn.neighbors import KNeighborsClassifier\n",
    "from sklearn.feature_selection import SelectKBest\n",
    "from sklearn.feature_selection import f_classif\n",
    "\n",
    "\n",
    "# Get the feature matrix X and target vector y\n",
    "X_train_ = data.drop(['Bidder_ID', 'Class'], axis=1)\n",
    "y_train_ = data['Class']\n",
    "\n",
    "k = 4\n",
    "knn = KNeighborsClassifier(n_neighbors=k) \n",
    "selector = SelectKBest(score_func=f_classif, k=k)\n",
    "# selector = SelectKBest(score_func=chi2, k=k)\n",
    "X_train_new = selector.fit_transform(X_train_, y_train_)\n",
    "\n",
    "\n",
    "# Print the selected feature names\n",
    "selected_features = X_train_.columns[selector.get_support()]\n",
    "print(\"Selected features:\", list(selected_features))\n",
    "\n"
   ]
  },
  {
   "cell_type": "markdown",
   "id": "fff29790",
   "metadata": {},
   "source": [
    "Training the model with the selected features to find which feature selection is a better technique. "
   ]
  },
  {
   "cell_type": "code",
   "execution_count": null,
   "id": "95631e58",
   "metadata": {},
   "outputs": [],
   "source": [
    "# Split the data into training and testing sets\n",
    "X = data[['Bidder_Tendency', 'Successive_Outbidding', 'Last_Bidding',\n",
    "       'Winning_Ratio']]\n",
    "y = data['Class']\n",
    "X_train_sl_ft_1, X_test_sl_ft_1, y_train_sl_ft_1, y_test_sl_ft_1 = train_test_split(X, y, test_size=0.2)"
   ]
  },
  {
   "cell_type": "code",
   "execution_count": null,
   "id": "d514fbe7",
   "metadata": {},
   "outputs": [],
   "source": []
  },
  {
   "cell_type": "code",
   "execution_count": null,
   "id": "6b4958bc",
   "metadata": {},
   "outputs": [],
   "source": [
    "# Define the neural network model\n",
    "def create_model_(num_layers=1, num_neurons=10):\n",
    "    model = Sequential()\n",
    "    model.add(Dense(num_neurons, input_dim=X_train_.shape[1], activation='relu'))\n",
    "    for i in range(num_layers):\n",
    "        model.add(Dense(num_neurons, activation='relu'))\n",
    "    model.add(Dense(1, activation='sigmoid'))\n",
    "    model.compile(loss='binary_crossentropy', optimizer='adam', metrics=['accuracy'])\n",
    "    return model"
   ]
  },
  {
   "cell_type": "code",
   "execution_count": null,
   "id": "ccaaf90a",
   "metadata": {
    "scrolled": true
   },
   "outputs": [],
   "source": [
    "model = create_model_(num_layers=2, num_neurons=64)\n",
    "model.fit(X_train_sl_ft_1, y_train_sl_ft_1, epochs=50, verbose=2)"
   ]
  },
  {
   "cell_type": "code",
   "execution_count": null,
   "id": "09f76960",
   "metadata": {
    "scrolled": true
   },
   "outputs": [],
   "source": [
    "\n",
    "# Use the trained classifier to predict the class labels for the test data\n",
    "y_pred_ = model.predict(X_test_sl_ft_1)\n",
    "y_pred_ = np.round(y_pred_sl_ft_1)\n",
    "# Evaluate the classifier's performance on the test data\n",
    "print(confusion_matrix(y_test_sl_ft_1, y_pred_sl_ft_1))\n",
    "print(classification_report(y_test_sl_ft_1, y_pred_sl_ft_1))"
   ]
  },
  {
   "cell_type": "code",
   "execution_count": null,
   "id": "3e5529b4",
   "metadata": {},
   "outputs": [],
   "source": [
    "#todo: train ELM on selected variables"
   ]
  },
  {
   "cell_type": "code",
   "execution_count": null,
   "id": "2f1c650e",
   "metadata": {
    "scrolled": true
   },
   "outputs": [],
   "source": [
    "# Split the data into training and testing sets\n",
    "X = data[['Bidder_Tendency', 'Bidding_Ratio', 'Successive_Outbidding', 'Winning_Ratio']]\n",
    "y = data['Class']\n",
    "X_train_sl_ft_2, X_test_sl_ft_2, y_train_sl_ft_2, y_test_sl_ft_2 = train_test_split(X, y, test_size=0.2)\n",
    "model = create_model_(num_layers=2, num_neurons=64)\n",
    "model.fit(X_train_sl_ft_2, y_train_sl_ft_2, epochs=50, verbose=2)\n",
    "\n",
    "# Use the trained classifier to predict the class labels for the test data\n",
    "y_pred_ = model.predict(X_test_sl_ft_2)\n",
    "y_pred_ = np.round(y_pred_sl_ft_2)\n",
    "# Evaluate the classifier's performance on the test data\n",
    "print(confusion_matrix(y_test_sl_ft_2, y_pred_sl_ft_2))\n",
    "print(classification_report(y_test_sl_ft_2, y_pred_sl_ft_2))"
   ]
  },
  {
   "cell_type": "code",
   "execution_count": null,
   "id": "2605eabb",
   "metadata": {},
   "outputs": [],
   "source": [
    "# Use the trained classifier to predict the class labels for the test data\n",
    "y_pred_sl_ft_2 = model.predict(X_test_sl_ft_2)\n",
    "y_pred_sl_ft_2 = np.round(y_pred_sl_ft_2)\n",
    "# Evaluate the classifier's performance on the test data\n",
    "print(confusion_matrix(y_test_sl_ft_2, y_pred_sl_ft_2))\n",
    "print(classification_report(y_test_sl_ft_2, y_pred_sl_ft_2))"
   ]
  },
  {
   "cell_type": "markdown",
   "id": "187fc983",
   "metadata": {},
   "source": [
    "Both feature selections provide similar accuracies. \n",
    "But we are going to conisder Lasso feature selection method for our case, because Lasso is linear and uses L1 regularization to shrink coefficients of the features towards zero which can also prevent the problem of overfitting. "
   ]
  },
  {
   "cell_type": "markdown",
   "id": "bdc77c67",
   "metadata": {},
   "source": [
    "## Using the best model from part 2 and part 3 on the selected features. "
   ]
  },
  {
   "cell_type": "code",
   "execution_count": null,
   "id": "6d84905a",
   "metadata": {},
   "outputs": [],
   "source": [
    "#  Selected features : ['Bidder_Tendency', 'Successive_Outbidding', 'Last_Bidding', 'Winning_Ratio']"
   ]
  },
  {
   "cell_type": "code",
   "execution_count": null,
   "id": "5cc77f05",
   "metadata": {},
   "outputs": [],
   "source": [
    "# Split the data into training and testing sets\n",
    "X = data[['Bidder_Tendency', 'Successive_Outbidding', 'Last_Bidding',\n",
    "       'Winning_Ratio']]\n",
    "y = data['Class']\n",
    "X_train, X_test, y_train, y_test = train_test_split(X, y, test_size=0.2)"
   ]
  },
  {
   "cell_type": "code",
   "execution_count": null,
   "id": "4ccc9986",
   "metadata": {},
   "outputs": [],
   "source": [
    "# BEST MODEL FROM PART - 2 (Random Forest)\n",
    "# Best hyperparameters:  \n",
    "# {'max_depth': 20, 'min_samples_leaf': 1, 'min_samples_split': 5, 'n_estimators': 100}\n",
    "\n",
    "# Define the random forest model\n",
    "rf_model = RandomForestClassifier(n_estimators=100, max_depth=20)\n",
    "rf_model.fit(X_train, y_train)\n",
    "y_pred_rf = rf_model.predict(X_test)\n",
    "acc_rf = accuracy_score(y_test, y_pred_rf)\n",
    "\n",
    "print(acc_rf)"
   ]
  },
  {
   "cell_type": "code",
   "execution_count": null,
   "id": "c7394ec5",
   "metadata": {
    "scrolled": true
   },
   "outputs": [],
   "source": [
    "# Define the neural network model\n",
    "def create_model_(num_layers=1, num_neurons=10):\n",
    "    model = Sequential()\n",
    "    model.add(Dense(num_neurons, input_dim=X_train_.shape[1], activation='relu'))\n",
    "    for i in range(num_layers):\n",
    "        model.add(Dense(num_neurons, activation='relu'))\n",
    "    model.add(Dense(1, activation='sigmoid'))\n",
    "    model.compile(loss='binary_crossentropy', optimizer='adam', metrics=['accuracy'])\n",
    "    return model\n",
    "\n",
    "model = create_model_(num_layers=2, num_neurons=64)\n",
    "model.fit(X_train, y_train, epochs=50, verbose=2)"
   ]
  },
  {
   "cell_type": "code",
   "execution_count": null,
   "id": "98abd7aa",
   "metadata": {},
   "outputs": [],
   "source": [
    "# Evaluate the model on the testing set\n",
    "loss, accuracy_nn = model.evaluate(X_test, y_test)\n"
   ]
  },
  {
   "cell_type": "code",
   "execution_count": null,
   "id": "634f72f3",
   "metadata": {},
   "outputs": [],
   "source": [
    "# Print the accuracy without rounding\n",
    "print(\"Accuracy of the best part 2 model (Rf) on selected features : {:.4f}\".format(acc_rf))\n",
    "print(\"Accuracy of the best part 3 model (NN) on selected features: {:.4f}\".format(accuracy_nn))"
   ]
  },
  {
   "cell_type": "code",
   "execution_count": null,
   "id": "d49e8056",
   "metadata": {},
   "outputs": [],
   "source": [
    "from sklearn.ensemble import RandomForestClassifier\n",
    "from sklearn.model_selection import cross_val_score\n",
    "from mlxtend.feature_selection import SequentialFeatureSelector as SFS\n",
    "from keras.models import Sequential\n",
    "from keras.layers import Dense\n",
    "from keras.wrappers.scikit_learn import KerasClassifier\n",
    "\n",
    "rf = RandomForestClassifier(max_depth=20, min_samples_leaf=1, min_samples_split=5, n_estimators=100)\n",
    "\n",
    "sfs = SFS(rf,\n",
    "          k_features=(1, X.shape[1]),\n",
    "          forward=True,\n",
    "          floating=True,\n",
    "          scoring='accuracy',\n",
    "          cv=5,\n",
    "          n_jobs=-1)\n",
    "\n",
    "sfs = sfs.fit(X_train, y_train)\n",
    "\n",
    "\n",
    "\n",
    "# Get the selected column names\n",
    "selected_columns = X.columns[list(sfs.k_feature_idx_)]\n",
    "\n",
    "# Print the selected column names\n",
    "print(\"Selected features (RF):\", selected_columns)\n",
    "\n",
    "# Print the best score\n",
    "print(\"Best score (RF):\", sfs.k_score_)\n",
    "\n",
    "# Transform X to contain only the selected features\n",
    "X_selected_rf = sfs.transform(X)\n",
    "\n",
    "# Train RF and NN models with selected features\n",
    "rf.fit(X_selected_rf, y)\n",
    "\n",
    "\n"
   ]
  },
  {
   "cell_type": "code",
   "execution_count": null,
   "id": "cae30629",
   "metadata": {
    "scrolled": true
   },
   "outputs": [],
   "source": [
    "import pandas as pd\n",
    "from sklearn.preprocessing import StandardScaler\n",
    "from sklearn.neural_network import MLPClassifier\n",
    "from mlxtend.feature_selection import SequentialFeatureSelector as SFS\n",
    "\n",
    "X = X_train\n",
    "y = y_train\n",
    "\n",
    "# Scale data using StandardScaler\n",
    "scaler = StandardScaler()\n",
    "X = scaler.fit_transform(X)\n",
    "\n",
    "# Define the neural network model\n",
    "nn_model = MLPClassifier(hidden_layer_sizes=(64, 64), max_iter=100, solver='adam', \n",
    "                         verbose=0,  random_state=42, tol=0.0001)\n",
    "\n",
    "# Define the Bi-directional Elimination wrapper method\n",
    "sfs = SFS(nn_model, k_features=(1, X.shape[1]), forward=True, floating=True, verbose=2, scoring='accuracy', cv=5)\n",
    "\n",
    "# Perform feature selection using the wrapper method\n",
    "sfs = sfs.fit(X, y)\n",
    "\n",
    "# Split the data into training and testing sets\n",
    "X = data.drop(['Class', 'Bidder_ID'], axis=1)\n",
    "# Get the selected column names\n",
    "selected_columns = X.columns[list(sfs.k_feature_idx_)]\n",
    "\n",
    "# Print the selected column names\n",
    "print(\"Selected features:\", selected_columns)\n",
    "\n",
    "# Train neural network model with selected features\n",
    "X_selected = sfs.transform(X_train)\n",
    "nn_model.fit(X_selected, y_train)\n"
   ]
  },
  {
   "cell_type": "code",
   "execution_count": null,
   "id": "40d35172",
   "metadata": {},
   "outputs": [],
   "source": [
    "# Split the data into training and testing sets\n",
    "X = data.drop(['Class', 'Bidder_ID'], axis=1)\n",
    "y = data['Class']\n",
    "selected_columns = X.columns[list(sfs.k_feature_idx_)]\n",
    "print(selected_columns)"
   ]
  },
  {
   "cell_type": "code",
   "execution_count": null,
   "id": "82f55e35",
   "metadata": {},
   "outputs": [],
   "source": [
    "# Print the accuracy without rounding\n",
    "print(\"Accuracy of the best part 2 model (Rf) on selected features : {:.4f}\".format(acc_rf))\n",
    "print(\"Accuracy of the best part 3 model (NN) on selected features: {:.4f}\".format(accuracy_nn))"
   ]
  },
  {
   "cell_type": "code",
   "execution_count": null,
   "id": "9160168b",
   "metadata": {},
   "outputs": [],
   "source": [
    "# TODO: report test accuracies for both models on the given selected feature"
   ]
  },
  {
   "cell_type": "code",
   "execution_count": null,
   "id": "1d011257",
   "metadata": {},
   "outputs": [],
   "source": []
  }
 ],
 "metadata": {
  "kernelspec": {
   "display_name": "Python 3 (ipykernel)",
   "language": "python",
   "name": "python3"
  },
  "language_info": {
   "codemirror_mode": {
    "name": "ipython",
    "version": 3
   },
   "file_extension": ".py",
   "mimetype": "text/x-python",
   "name": "python",
   "nbconvert_exporter": "python",
   "pygments_lexer": "ipython3",
   "version": "3.9.7"
  }
 },
 "nbformat": 4,
 "nbformat_minor": 5
}
