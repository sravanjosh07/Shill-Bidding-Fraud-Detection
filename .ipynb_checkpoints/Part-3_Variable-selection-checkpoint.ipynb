{
 "cells": [
  {
   "cell_type": "markdown",
   "id": "30b62177",
   "metadata": {},
   "source": [
    "# Variable Selection"
   ]
  },
  {
   "cell_type": "code",
   "execution_count": 4,
   "id": "b7132603",
   "metadata": {},
   "outputs": [
    {
     "name": "stderr",
     "output_type": "stream",
     "text": [
      "2023-05-01 07:54:24.656475: I tensorflow/core/platform/cpu_feature_guard.cc:193] This TensorFlow binary is optimized with oneAPI Deep Neural Network Library (oneDNN) to use the following CPU instructions in performance-critical operations:  SSE4.1 SSE4.2 AVX AVX2 AVX512F AVX512_VNNI FMA\n",
      "To enable them in other operations, rebuild TensorFlow with the appropriate compiler flags.\n"
     ]
    }
   ],
   "source": [
    "import pandas as pd\n",
    "import seaborn as sns\n",
    "import matplotlib.pyplot as plt\n",
    "import numpy as np\n",
    "import keras\n",
    "import warnings\n",
    "\n",
    "from sklearn.preprocessing import StandardScaler\n",
    "from sklearn.preprocessing import OneHotEncoder\n",
    "from sklearn.preprocessing import label_binarize\n",
    "from sklearn.model_selection import RandomizedSearchCV\n",
    "from sklearn.preprocessing import MinMaxScaler\n",
    "from hpelm import ELM\n",
    "from sklearn.ensemble import RandomForestClassifier\n",
    "from sklearn.neighbors import KNeighborsClassifier\n",
    "from sklearn.model_selection import train_test_split\n",
    "from sklearn.svm import SVC\n",
    "from sklearn.metrics import classification_report, confusion_matrix, auc, accuracy_score\n",
    "warnings.filterwarnings(\"ignore\")"
   ]
  },
  {
   "cell_type": "code",
   "execution_count": 33,
   "id": "bc799208",
   "metadata": {},
   "outputs": [],
   "source": [
    "data = pd.read_csv(\"Group_14_data_cleaned.csv\", index_col=0)"
   ]
  },
  {
   "cell_type": "code",
   "execution_count": 34,
   "id": "27482eea",
   "metadata": {},
   "outputs": [],
   "source": [
    "# Split the data into training and testing sets\n",
    "X = data.drop(['Class', 'Bidder_ID'], axis=1)\n",
    "y = data['Class']\n",
    "\n",
    "# Split the data into training and testing sets\n",
    "X_train, X_test, y_train, y_test = train_test_split(X, y, test_size=0.2, random_state=42)"
   ]
  },
  {
   "cell_type": "code",
   "execution_count": 46,
   "id": "eda47fc1",
   "metadata": {},
   "outputs": [
    {
     "name": "stdout",
     "output_type": "stream",
     "text": [
      "Selected features using Lasso: Index(['Successive_Outbidding', 'Last_Bidding', 'Winning_Ratio',\n",
      "       'Auction_Duration'],\n",
      "      dtype='object')\n",
      "Selected features using correlations:  ['Successive_Outbidding', 'Starting_Price_Average', 'Early_Bidding', 'Winning_Ratio', 'Class']\n"
     ]
    }
   ],
   "source": [
    "from sklearn.linear_model import Lasso\n",
    "from sklearn.preprocessing import StandardScaler\n",
    "\n",
    "\n",
    "# Standardize the features using the StandardScaler\n",
    "scaler = StandardScaler()\n",
    "X_train = scaler.fit_transform(X_train)\n",
    "X_test = scaler.transform(X_test)\n",
    "\n",
    "# Fit a Lasso regression model on the training data\n",
    "alpha = 0.004  # regularization strength\n",
    "lasso = Lasso(alpha=alpha)\n",
    "lasso.fit(X_train, y_train)\n",
    "\n",
    "# Select the features with non-zero coefficients\n",
    "selected_features_Lasso = X.columns[lasso.coef_ != 0]\n",
    "\n",
    "# Print the selected features\n",
    "print(\"Selected features using Lasso:\", selected_features_Lasso)\n",
    "\n",
    "\n",
    "# select the features based on correlation with 'Class' column\n",
    "corr = data.corr()['Class'].sort_values(ascending=False)\n",
    "selected_features = corr[corr.index != 'Class'].index.tolist()\n",
    "\n",
    "\n",
    "# Print the selected features\n",
    "print(\"Selected features using correlations: \", selected_features_corr)\n"
   ]
  },
  {
   "cell_type": "code",
   "execution_count": 43,
   "id": "332e4d2b",
   "metadata": {},
   "outputs": [
    {
     "name": "stdout",
     "output_type": "stream",
     "text": [
      "Class                     1.000000\n",
      "Successive_Outbidding     0.901035\n",
      "Bidding_Ratio             0.569435\n",
      "Winning_Ratio             0.394122\n",
      "Bidder_Tendency           0.295533\n",
      "Last_Bidding              0.097655\n",
      "Early_Bidding             0.053570\n",
      "Auction_Bids              0.044964\n",
      "Starting_Price_Average    0.042604\n",
      "Auction_Duration          0.021145\n",
      "Name: Class, dtype: float64\n"
     ]
    }
   ],
   "source": [
    "print(corr)"
   ]
  },
  {
   "cell_type": "markdown",
   "id": "f82f0853",
   "metadata": {},
   "source": [
    "let's look at correlations. Correlation measures how strong a relationship exists between two variables. In feature selection, we look at the correlation between the independent variables and the target variable. If the correlation is high, it indicates that the independent variable has a strong relationship with the target variable and hence, may be a good predictor. In this case, we can see that 'Successive_Outbidding', 'Starting_Price_Average', 'Early_Bidding', 'Winning_Ratio', and 'Class' are highly correlated with each other.\n",
    "\n",
    "However, correlation alone may not be the best method for feature selection, as it only measures linear relationships between variables. It may not capture the complex relationships that may exist in the data. In other words, two variables may be highly related, but not necessarily in a linear fashion.\n",
    "\n",
    "This is where Lasso comes in. Lasso is a regularization technique that is commonly used for feature selection. It works by shrinking the coefficients of less important variables towards zero, effectively reducing the number of features in the model. Lasso is particularly useful when dealing with high-dimensional data, where the number of features is much larger than the number of samples.\n",
    "\n",
    "In this case, we can see that Lasso has selected a subset of features that are important for predicting the target variable, namely 'Bidder_Tendency', 'Successive_Outbidding', 'Last_Bidding', 'Starting_Price_Average', 'Winning_Ratio', and 'Auction_Duration'. By using Lasso, we can effectively reduce the number of features while still maintaining good predictive performance."
   ]
  },
  {
   "cell_type": "code",
   "execution_count": null,
   "id": "35b4c2b4",
   "metadata": {},
   "outputs": [],
   "source": []
  }
 ],
 "metadata": {
  "kernelspec": {
   "display_name": "Python 3 (ipykernel)",
   "language": "python",
   "name": "python3"
  },
  "language_info": {
   "codemirror_mode": {
    "name": "ipython",
    "version": 3
   },
   "file_extension": ".py",
   "mimetype": "text/x-python",
   "name": "python",
   "nbconvert_exporter": "python",
   "pygments_lexer": "ipython3",
   "version": "3.9.7"
  }
 },
 "nbformat": 4,
 "nbformat_minor": 5
}
