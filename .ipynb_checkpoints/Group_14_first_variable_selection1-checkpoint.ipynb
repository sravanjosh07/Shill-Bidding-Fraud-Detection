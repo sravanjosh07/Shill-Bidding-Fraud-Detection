{
 "cells": [
  {
   "cell_type": "markdown",
   "id": "30b62177",
   "metadata": {},
   "source": [
    "# Variable Selection"
   ]
  },
  {
   "cell_type": "code",
   "execution_count": 1,
   "id": "b7132603",
   "metadata": {},
   "outputs": [
    {
     "name": "stderr",
     "output_type": "stream",
     "text": [
      "2023-05-02 20:15:13.678462: I tensorflow/core/platform/cpu_feature_guard.cc:193] This TensorFlow binary is optimized with oneAPI Deep Neural Network Library (oneDNN) to use the following CPU instructions in performance-critical operations:  SSE4.1 SSE4.2 AVX AVX2 AVX512F AVX512_VNNI FMA\n",
      "To enable them in other operations, rebuild TensorFlow with the appropriate compiler flags.\n"
     ]
    }
   ],
   "source": [
    "import pandas as pd\n",
    "import seaborn as sns\n",
    "import matplotlib.pyplot as plt\n",
    "import numpy as np\n",
    "import keras\n",
    "import warnings\n",
    "\n",
    "from sklearn.preprocessing import StandardScaler, OneHotEncoder, label_binarize, MinMaxScaler\n",
    "from sklearn.model_selection import RandomizedSearchCV\n",
    "from keras.models import Sequential\n",
    "from keras.layers import Dense\n",
    "from hpelm import ELM\n",
    "from sklearn.ensemble import RandomForestClassifier\n",
    "from sklearn.neighbors import KNeighborsClassifier\n",
    "from sklearn.model_selection import train_test_split\n",
    "from sklearn.svm import SVC\n",
    "from sklearn.metrics import classification_report, confusion_matrix, auc, accuracy_score\n",
    "warnings.filterwarnings(\"ignore\")"
   ]
  },
  {
   "cell_type": "code",
   "execution_count": 2,
   "id": "bc799208",
   "metadata": {},
   "outputs": [
    {
     "data": {
      "text/html": [
       "<div>\n",
       "<style scoped>\n",
       "    .dataframe tbody tr th:only-of-type {\n",
       "        vertical-align: middle;\n",
       "    }\n",
       "\n",
       "    .dataframe tbody tr th {\n",
       "        vertical-align: top;\n",
       "    }\n",
       "\n",
       "    .dataframe thead th {\n",
       "        text-align: right;\n",
       "    }\n",
       "</style>\n",
       "<table border=\"1\" class=\"dataframe\">\n",
       "  <thead>\n",
       "    <tr style=\"text-align: right;\">\n",
       "      <th></th>\n",
       "      <th>Auction_ID</th>\n",
       "      <th>Bidder_ID</th>\n",
       "      <th>Bidder_Tendency</th>\n",
       "      <th>Bidding_Ratio</th>\n",
       "      <th>Successive_Outbidding</th>\n",
       "      <th>Last_Bidding</th>\n",
       "      <th>Auction_Bids</th>\n",
       "      <th>Starting_Price_Average</th>\n",
       "      <th>Early_Bidding</th>\n",
       "      <th>Winning_Ratio</th>\n",
       "      <th>Auction_Duration</th>\n",
       "      <th>Class</th>\n",
       "    </tr>\n",
       "  </thead>\n",
       "  <tbody>\n",
       "    <tr>\n",
       "      <th>0</th>\n",
       "      <td>732</td>\n",
       "      <td>_***i</td>\n",
       "      <td>0.200000</td>\n",
       "      <td>0.400000</td>\n",
       "      <td>0.0</td>\n",
       "      <td>0.000028</td>\n",
       "      <td>0.0</td>\n",
       "      <td>0.993593</td>\n",
       "      <td>0.000028</td>\n",
       "      <td>0.666667</td>\n",
       "      <td>0.444444</td>\n",
       "      <td>0</td>\n",
       "    </tr>\n",
       "    <tr>\n",
       "      <th>1</th>\n",
       "      <td>732</td>\n",
       "      <td>g***r</td>\n",
       "      <td>0.024390</td>\n",
       "      <td>0.200000</td>\n",
       "      <td>0.0</td>\n",
       "      <td>0.013123</td>\n",
       "      <td>0.0</td>\n",
       "      <td>0.993593</td>\n",
       "      <td>0.013123</td>\n",
       "      <td>0.944444</td>\n",
       "      <td>0.444444</td>\n",
       "      <td>0</td>\n",
       "    </tr>\n",
       "    <tr>\n",
       "      <th>2</th>\n",
       "      <td>732</td>\n",
       "      <td>t***p</td>\n",
       "      <td>0.142857</td>\n",
       "      <td>0.200000</td>\n",
       "      <td>0.0</td>\n",
       "      <td>0.003042</td>\n",
       "      <td>0.0</td>\n",
       "      <td>0.993593</td>\n",
       "      <td>0.003042</td>\n",
       "      <td>1.000000</td>\n",
       "      <td>0.444444</td>\n",
       "      <td>0</td>\n",
       "    </tr>\n",
       "    <tr>\n",
       "      <th>3</th>\n",
       "      <td>732</td>\n",
       "      <td>7***n</td>\n",
       "      <td>0.100000</td>\n",
       "      <td>0.200000</td>\n",
       "      <td>0.0</td>\n",
       "      <td>0.097477</td>\n",
       "      <td>0.0</td>\n",
       "      <td>0.993593</td>\n",
       "      <td>0.097477</td>\n",
       "      <td>1.000000</td>\n",
       "      <td>0.444444</td>\n",
       "      <td>0</td>\n",
       "    </tr>\n",
       "    <tr>\n",
       "      <th>4</th>\n",
       "      <td>900</td>\n",
       "      <td>z***z</td>\n",
       "      <td>0.051282</td>\n",
       "      <td>0.222222</td>\n",
       "      <td>0.0</td>\n",
       "      <td>0.001318</td>\n",
       "      <td>0.0</td>\n",
       "      <td>0.000000</td>\n",
       "      <td>0.001242</td>\n",
       "      <td>0.500000</td>\n",
       "      <td>0.666667</td>\n",
       "      <td>0</td>\n",
       "    </tr>\n",
       "  </tbody>\n",
       "</table>\n",
       "</div>"
      ],
      "text/plain": [
       "   Auction_ID Bidder_ID  Bidder_Tendency  Bidding_Ratio  \\\n",
       "0         732     _***i         0.200000       0.400000   \n",
       "1         732     g***r         0.024390       0.200000   \n",
       "2         732     t***p         0.142857       0.200000   \n",
       "3         732     7***n         0.100000       0.200000   \n",
       "4         900     z***z         0.051282       0.222222   \n",
       "\n",
       "   Successive_Outbidding  Last_Bidding  Auction_Bids  Starting_Price_Average  \\\n",
       "0                    0.0      0.000028           0.0                0.993593   \n",
       "1                    0.0      0.013123           0.0                0.993593   \n",
       "2                    0.0      0.003042           0.0                0.993593   \n",
       "3                    0.0      0.097477           0.0                0.993593   \n",
       "4                    0.0      0.001318           0.0                0.000000   \n",
       "\n",
       "   Early_Bidding  Winning_Ratio  Auction_Duration  Class  \n",
       "0       0.000028       0.666667          0.444444      0  \n",
       "1       0.013123       0.944444          0.444444      0  \n",
       "2       0.003042       1.000000          0.444444      0  \n",
       "3       0.097477       1.000000          0.444444      0  \n",
       "4       0.001242       0.500000          0.666667      0  "
      ]
     },
     "execution_count": 2,
     "metadata": {},
     "output_type": "execute_result"
    }
   ],
   "source": [
    "data = pd.read_csv(\"Group_14_data_cleaned.csv\")\n",
    "data.head()"
   ]
  },
  {
   "cell_type": "code",
   "execution_count": 3,
   "id": "27482eea",
   "metadata": {},
   "outputs": [],
   "source": [
    "# Split the data into training and testing sets\n",
    "X = data.drop([\"Auction_ID\", 'Class', 'Bidder_ID'], axis=1)\n",
    "y = data['Class']\n",
    "\n",
    "# Split the data into training and testing sets\n",
    "X_train, X_test, y_train, y_test = train_test_split(X, y, test_size=0.2, random_state=42)"
   ]
  },
  {
   "cell_type": "code",
   "execution_count": 4,
   "id": "eda47fc1",
   "metadata": {},
   "outputs": [
    {
     "name": "stdout",
     "output_type": "stream",
     "text": [
      "Selected features using Lasso: Index(['Successive_Outbidding', 'Last_Bidding', 'Winning_Ratio',\n",
      "       'Auction_Duration'],\n",
      "      dtype='object')\n",
      "Selected features using correlations:  ['Successive_Outbidding', 'Bidding_Ratio', 'Winning_Ratio', 'Bidder_Tendency']\n"
     ]
    }
   ],
   "source": [
    "from sklearn.linear_model import Lasso\n",
    "from sklearn.preprocessing import StandardScaler\n",
    "\n",
    "\n",
    "# Standardize the features using the StandardScaler\n",
    "scaler = StandardScaler()\n",
    "X_train = scaler.fit_transform(X_train)\n",
    "X_test = scaler.transform(X_test)\n",
    "\n",
    "# Fit a Lasso regression model on the training data\n",
    "alpha = 0.004  # regularization strength\n",
    "lasso = Lasso(alpha=alpha)\n",
    "lasso.fit(X_train, y_train)\n",
    "\n",
    "# Select the features with non-zero coefficients\n",
    "selected_features_Lasso = X.columns[lasso.coef_ != 0]\n",
    "\n",
    "# Print the selected features\n",
    "print(\"Selected features using Lasso:\", selected_features_Lasso)\n",
    "\n",
    "\n",
    "corr = data.corr()['Class'].sort_values(ascending=False)\n",
    "selected_features = corr[corr > 0.1].index.tolist()\n",
    "selected_features.remove('Class')\n",
    "\n",
    "# Print the selected features\n",
    "print(\"Selected features using correlations: \", selected_features)\n"
   ]
  },
  {
   "cell_type": "code",
   "execution_count": 5,
   "id": "332e4d2b",
   "metadata": {},
   "outputs": [
    {
     "name": "stdout",
     "output_type": "stream",
     "text": [
      "Class                     1.000000\n",
      "Successive_Outbidding     0.901035\n",
      "Bidding_Ratio             0.569435\n",
      "Winning_Ratio             0.394122\n",
      "Bidder_Tendency           0.295533\n",
      "Last_Bidding              0.097655\n",
      "Early_Bidding             0.053570\n",
      "Auction_Bids              0.044964\n",
      "Starting_Price_Average    0.042604\n",
      "Auction_Duration          0.021145\n",
      "Auction_ID               -0.007985\n",
      "Name: Class, dtype: float64\n"
     ]
    }
   ],
   "source": [
    "print(corr)"
   ]
  },
  {
   "cell_type": "markdown",
   "id": "f82f0853",
   "metadata": {},
   "source": [
    "let's look at correlations. Correlation measures how strong a relationship exists between two variables. In feature selection, we look at the correlation between the independent variables and the target variable. If the correlation is high, it indicates that the independent variable has a strong relationship with the target variable and hence, may be a good predictor. In this case, we can see that 'Successive_Outbidding', 'Starting_Price_Average', 'Early_Bidding', 'Winning_Ratio', and 'Class' are highly correlated with each other.\n",
    "\n",
    "However, correlation alone may not be the best method for feature selection, as it only measures linear relationships between variables. It may not capture the complex relationships that may exist in the data. In other words, two variables may be highly related, but not necessarily in a linear fashion.\n",
    "\n",
    "This is where Lasso comes in. Lasso is a regularization technique that is commonly used for feature selection. It works by shrinking the coefficients of less important variables towards zero, effectively reducing the number of features in the model. Lasso is particularly useful when dealing with high-dimensional data, where the number of features is much larger than the number of samples.\n",
    "\n",
    "In this case, we can see that Lasso has selected a subset of features that are important for predicting the target variable, namely 'Bidder_Tendency', 'Successive_Outbidding', 'Last_Bidding', 'Starting_Price_Average', 'Winning_Ratio', and 'Auction_Duration'. By using Lasso, we can effectively reduce the number of features while still maintaining good predictive performance."
   ]
  },
  {
   "cell_type": "markdown",
   "id": "79d694ba",
   "metadata": {},
   "source": [
    "# Training the best models from part 2 and part 3  on selected features using **LASSO**\n"
   ]
  },
  {
   "cell_type": "code",
   "execution_count": 6,
   "id": "35b4c2b4",
   "metadata": {},
   "outputs": [],
   "source": [
    "# Split the data into training and testing sets\n",
    "X = data[['Bidder_Tendency', 'Successive_Outbidding', 'Last_Bidding',\n",
    "       'Winning_Ratio']]\n",
    "# X = data[['Successive_Outbidding', 'Bidding_Ratio', 'Winning_Ratio', 'Bidder_Tendency']]\n",
    "y = data['Class']\n",
    "X_train_selected, X_test_selected, y_train, y_test = train_test_split(X, y, test_size=0.2)"
   ]
  },
  {
   "cell_type": "code",
   "execution_count": 7,
   "id": "7a4153b3",
   "metadata": {},
   "outputs": [],
   "source": [
    "# Define the neural network model\n",
    "def create_model_(num_layers=1, num_neurons=10):\n",
    "    model = Sequential()\n",
    "    model.add(Dense(num_neurons, input_dim=X_train_selected.shape[1], activation='relu'))\n",
    "    for i in range(num_layers):\n",
    "        model.add(Dense(num_neurons, activation='relu'))\n",
    "    model.add(Dense(1, activation='sigmoid'))\n",
    "    model.compile(loss='binary_crossentropy', optimizer='adam', metrics=['accuracy'])\n",
    "    return model"
   ]
  },
  {
   "cell_type": "code",
   "execution_count": 8,
   "id": "aa68c99e",
   "metadata": {
    "scrolled": true
   },
   "outputs": [
    {
     "name": "stdout",
     "output_type": "stream",
     "text": [
      "Epoch 1/50\n"
     ]
    },
    {
     "name": "stderr",
     "output_type": "stream",
     "text": [
      "2023-05-02 20:15:20.148310: I tensorflow/core/platform/cpu_feature_guard.cc:193] This TensorFlow binary is optimized with oneAPI Deep Neural Network Library (oneDNN) to use the following CPU instructions in performance-critical operations:  SSE4.1 SSE4.2 AVX AVX2 AVX512F AVX512_VNNI FMA\n",
      "To enable them in other operations, rebuild TensorFlow with the appropriate compiler flags.\n"
     ]
    },
    {
     "name": "stdout",
     "output_type": "stream",
     "text": [
      "158/158 - 1s - loss: 0.2046 - accuracy: 0.9369 - 995ms/epoch - 6ms/step\n",
      "Epoch 2/50\n",
      "158/158 - 0s - loss: 0.0453 - accuracy: 0.9780 - 296ms/epoch - 2ms/step\n",
      "Epoch 3/50\n",
      "158/158 - 0s - loss: 0.0434 - accuracy: 0.9794 - 304ms/epoch - 2ms/step\n",
      "Epoch 4/50\n",
      "158/158 - 0s - loss: 0.0427 - accuracy: 0.9796 - 307ms/epoch - 2ms/step\n",
      "Epoch 5/50\n",
      "158/158 - 0s - loss: 0.0434 - accuracy: 0.9782 - 239ms/epoch - 2ms/step\n",
      "Epoch 6/50\n",
      "158/158 - 0s - loss: 0.0433 - accuracy: 0.9784 - 235ms/epoch - 1ms/step\n",
      "Epoch 7/50\n",
      "158/158 - 0s - loss: 0.0412 - accuracy: 0.9796 - 265ms/epoch - 2ms/step\n",
      "Epoch 8/50\n",
      "158/158 - 0s - loss: 0.0436 - accuracy: 0.9780 - 303ms/epoch - 2ms/step\n",
      "Epoch 9/50\n",
      "158/158 - 0s - loss: 0.0413 - accuracy: 0.9806 - 258ms/epoch - 2ms/step\n",
      "Epoch 10/50\n",
      "158/158 - 0s - loss: 0.0412 - accuracy: 0.9800 - 226ms/epoch - 1ms/step\n",
      "Epoch 11/50\n",
      "158/158 - 0s - loss: 0.0409 - accuracy: 0.9798 - 224ms/epoch - 1ms/step\n",
      "Epoch 12/50\n",
      "158/158 - 0s - loss: 0.0396 - accuracy: 0.9802 - 275ms/epoch - 2ms/step\n",
      "Epoch 13/50\n",
      "158/158 - 0s - loss: 0.0414 - accuracy: 0.9798 - 232ms/epoch - 1ms/step\n",
      "Epoch 14/50\n",
      "158/158 - 0s - loss: 0.0405 - accuracy: 0.9806 - 219ms/epoch - 1ms/step\n",
      "Epoch 15/50\n",
      "158/158 - 0s - loss: 0.0398 - accuracy: 0.9802 - 229ms/epoch - 1ms/step\n",
      "Epoch 16/50\n",
      "158/158 - 0s - loss: 0.0410 - accuracy: 0.9804 - 239ms/epoch - 2ms/step\n",
      "Epoch 17/50\n",
      "158/158 - 0s - loss: 0.0405 - accuracy: 0.9786 - 243ms/epoch - 2ms/step\n",
      "Epoch 18/50\n",
      "158/158 - 0s - loss: 0.0393 - accuracy: 0.9788 - 225ms/epoch - 1ms/step\n",
      "Epoch 19/50\n",
      "158/158 - 0s - loss: 0.0396 - accuracy: 0.9806 - 274ms/epoch - 2ms/step\n",
      "Epoch 20/50\n",
      "158/158 - 0s - loss: 0.0398 - accuracy: 0.9794 - 264ms/epoch - 2ms/step\n",
      "Epoch 21/50\n",
      "158/158 - 0s - loss: 0.0391 - accuracy: 0.9806 - 229ms/epoch - 1ms/step\n",
      "Epoch 22/50\n",
      "158/158 - 0s - loss: 0.0392 - accuracy: 0.9812 - 209ms/epoch - 1ms/step\n",
      "Epoch 23/50\n",
      "158/158 - 0s - loss: 0.0390 - accuracy: 0.9818 - 213ms/epoch - 1ms/step\n",
      "Epoch 24/50\n",
      "158/158 - 0s - loss: 0.0385 - accuracy: 0.9808 - 262ms/epoch - 2ms/step\n",
      "Epoch 25/50\n",
      "158/158 - 0s - loss: 0.0385 - accuracy: 0.9812 - 207ms/epoch - 1ms/step\n",
      "Epoch 26/50\n",
      "158/158 - 0s - loss: 0.0392 - accuracy: 0.9800 - 210ms/epoch - 1ms/step\n",
      "Epoch 27/50\n",
      "158/158 - 0s - loss: 0.0384 - accuracy: 0.9810 - 217ms/epoch - 1ms/step\n",
      "Epoch 28/50\n",
      "158/158 - 0s - loss: 0.0384 - accuracy: 0.9810 - 219ms/epoch - 1ms/step\n",
      "Epoch 29/50\n",
      "158/158 - 0s - loss: 0.0384 - accuracy: 0.9814 - 209ms/epoch - 1ms/step\n",
      "Epoch 30/50\n",
      "158/158 - 0s - loss: 0.0383 - accuracy: 0.9808 - 217ms/epoch - 1ms/step\n",
      "Epoch 31/50\n",
      "158/158 - 0s - loss: 0.0380 - accuracy: 0.9810 - 209ms/epoch - 1ms/step\n",
      "Epoch 32/50\n",
      "158/158 - 0s - loss: 0.0379 - accuracy: 0.9806 - 219ms/epoch - 1ms/step\n",
      "Epoch 33/50\n",
      "158/158 - 0s - loss: 0.0377 - accuracy: 0.9810 - 211ms/epoch - 1ms/step\n",
      "Epoch 34/50\n",
      "158/158 - 0s - loss: 0.0386 - accuracy: 0.9812 - 217ms/epoch - 1ms/step\n",
      "Epoch 35/50\n",
      "158/158 - 0s - loss: 0.0385 - accuracy: 0.9794 - 206ms/epoch - 1ms/step\n",
      "Epoch 36/50\n",
      "158/158 - 0s - loss: 0.0377 - accuracy: 0.9806 - 216ms/epoch - 1ms/step\n",
      "Epoch 37/50\n",
      "158/158 - 0s - loss: 0.0384 - accuracy: 0.9798 - 209ms/epoch - 1ms/step\n",
      "Epoch 38/50\n",
      "158/158 - 0s - loss: 0.0379 - accuracy: 0.9808 - 212ms/epoch - 1ms/step\n",
      "Epoch 39/50\n",
      "158/158 - 0s - loss: 0.0382 - accuracy: 0.9816 - 211ms/epoch - 1ms/step\n",
      "Epoch 40/50\n",
      "158/158 - 0s - loss: 0.0377 - accuracy: 0.9806 - 215ms/epoch - 1ms/step\n",
      "Epoch 41/50\n",
      "158/158 - 0s - loss: 0.0386 - accuracy: 0.9808 - 209ms/epoch - 1ms/step\n",
      "Epoch 42/50\n",
      "158/158 - 0s - loss: 0.0372 - accuracy: 0.9812 - 226ms/epoch - 1ms/step\n",
      "Epoch 43/50\n",
      "158/158 - 0s - loss: 0.0372 - accuracy: 0.9804 - 274ms/epoch - 2ms/step\n",
      "Epoch 44/50\n",
      "158/158 - 0s - loss: 0.0376 - accuracy: 0.9808 - 220ms/epoch - 1ms/step\n",
      "Epoch 45/50\n",
      "158/158 - 0s - loss: 0.0384 - accuracy: 0.9808 - 224ms/epoch - 1ms/step\n",
      "Epoch 46/50\n",
      "158/158 - 0s - loss: 0.0375 - accuracy: 0.9804 - 218ms/epoch - 1ms/step\n",
      "Epoch 47/50\n",
      "158/158 - 0s - loss: 0.0381 - accuracy: 0.9810 - 223ms/epoch - 1ms/step\n",
      "Epoch 48/50\n",
      "158/158 - 0s - loss: 0.0368 - accuracy: 0.9802 - 210ms/epoch - 1ms/step\n",
      "Epoch 49/50\n",
      "158/158 - 0s - loss: 0.0381 - accuracy: 0.9812 - 222ms/epoch - 1ms/step\n",
      "Epoch 50/50\n",
      "158/158 - 0s - loss: 0.0383 - accuracy: 0.9812 - 214ms/epoch - 1ms/step\n"
     ]
    },
    {
     "data": {
      "text/plain": [
       "<keras.callbacks.History at 0x7f7a10c0ab50>"
      ]
     },
     "execution_count": 8,
     "metadata": {},
     "output_type": "execute_result"
    }
   ],
   "source": [
    "model = create_model_(num_layers=2, num_neurons=64)\n",
    "model.fit(X_train_selected, y_train, epochs=50, verbose=2)"
   ]
  },
  {
   "cell_type": "code",
   "execution_count": 9,
   "id": "1bba7751",
   "metadata": {},
   "outputs": [],
   "source": [
    "# BEST MODEL FROM PART - 2 (Random Forest)\n",
    "# Best hyperparameters:  \n",
    "# {'max_depth': 20, 'min_samples_leaf': 1, 'min_samples_split': 5, 'n_estimators': 100}\n",
    "\n",
    "# Define the random forest model\n",
    "rf_model = RandomForestClassifier(n_estimators=100, max_depth=20, min_samples_leaf=1, min_samples_split=5)\n",
    "rf_model.fit(X_train_selected, y_train)\n",
    "y_pred_rf = rf_model.predict(X_test_selected)\n",
    "acc_rf = accuracy_score(y_test, y_pred_rf)"
   ]
  },
  {
   "cell_type": "code",
   "execution_count": 10,
   "id": "6608438e",
   "metadata": {},
   "outputs": [
    {
     "name": "stdout",
     "output_type": "stream",
     "text": [
      "40/40 [==============================] - 0s 2ms/step - loss: 0.0424 - accuracy: 0.9842\n",
      "Accuracy of the best part 2 model (Rf) on selected features : 0.9810\n",
      "Accuracy of the best part 3 model (NN) on selected features: 0.9842\n"
     ]
    }
   ],
   "source": [
    "# Evaluate the model on the testing set\n",
    "loss, accuracy_nn = model.evaluate(X_test_selected, y_test)\n",
    "# Print the accuracy without rounding\n",
    "print(\"Accuracy of the best part 2 model (Rf) on selected features : {:.4f}\".format(acc_rf))\n",
    "print(\"Accuracy of the best part 3 model (NN) on selected features: {:.4f}\".format(accuracy_nn))"
   ]
  },
  {
   "cell_type": "code",
   "execution_count": 13,
   "id": "5b1582f0",
   "metadata": {},
   "outputs": [
    {
     "name": "stdout",
     "output_type": "stream",
     "text": [
      "40/40 [==============================] - 0s 2ms/step\n"
     ]
    }
   ],
   "source": [
    "y_pred_nn = model.predict(X_test_selected)\n",
    "y_pred_nn = np.round(y_pred_nn)\n",
    "nn_report = classification_report(y_test, y_pred_nn)\n",
    "nn_cnf_matrix = confusion_matrix(y_test, y_pred_nn)\n",
    "\n",
    "\n",
    "y_pred_rf = rf_model.predict(X_test_selected)\n",
    "rf_report = classification_report(y_test, y_pred_rf)\n",
    "rf_cnf_matrix = confusion_matrix(y_test, y_pred_rf)"
   ]
  },
  {
   "cell_type": "code",
   "execution_count": 14,
   "id": "97f7b432",
   "metadata": {},
   "outputs": [
    {
     "name": "stdout",
     "output_type": "stream",
     "text": [
      "RF Report:\n",
      "[[1114   18]\n",
      " [   2  131]]\n",
      "              precision    recall  f1-score   support\n",
      "\n",
      "           0       0.99      0.99      0.99      1132\n",
      "           1       0.90      0.92      0.91       133\n",
      "\n",
      "    accuracy                           0.98      1265\n",
      "   macro avg       0.94      0.96      0.95      1265\n",
      "weighted avg       0.98      0.98      0.98      1265\n",
      "\n",
      "-- -- -- -- -- -- -- -- -- -- -- -- \n",
      "NN Report:\n",
      "[[1118   14]\n",
      " [  10  123]]\n",
      "              precision    recall  f1-score   support\n",
      "\n",
      "           0       1.00      0.98      0.99      1132\n",
      "           1       0.88      0.98      0.93       133\n",
      "\n",
      "    accuracy                           0.98      1265\n",
      "   macro avg       0.94      0.98      0.96      1265\n",
      "weighted avg       0.99      0.98      0.98      1265\n",
      "\n"
     ]
    }
   ],
   "source": [
    "print(\"RF Report:\")\n",
    "print(nn_cnf_matrix)\n",
    "print(rf_report)\n",
    "\n",
    "print(\"-- -- -- -- -- -- -- -- -- -- -- -- \")\n",
    "\n",
    "print(\"NN Report:\")\n",
    "print(rf_cnf_matrix)\n",
    "print(nn_report)"
   ]
  },
  {
   "cell_type": "code",
   "execution_count": null,
   "id": "f963ee7b",
   "metadata": {},
   "outputs": [],
   "source": []
  }
 ],
 "metadata": {
  "kernelspec": {
   "display_name": "Python 3 (ipykernel)",
   "language": "python",
   "name": "python3"
  },
  "language_info": {
   "codemirror_mode": {
    "name": "ipython",
    "version": 3
   },
   "file_extension": ".py",
   "mimetype": "text/x-python",
   "name": "python",
   "nbconvert_exporter": "python",
   "pygments_lexer": "ipython3",
   "version": "3.9.7"
  }
 },
 "nbformat": 4,
 "nbformat_minor": 5
}
