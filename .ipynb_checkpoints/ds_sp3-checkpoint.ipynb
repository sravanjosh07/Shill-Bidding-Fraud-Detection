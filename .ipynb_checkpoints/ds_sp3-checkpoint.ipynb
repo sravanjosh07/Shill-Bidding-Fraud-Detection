{
 "cells": [
  {
   "cell_type": "code",
   "execution_count": 50,
   "metadata": {
    "colab": {
     "base_uri": "https://localhost:8080/"
    },
    "id": "JaKauz70JehH",
    "outputId": "b25228c4-5d16-483e-a42d-f3169a0f4b3b"
   },
   "outputs": [
    {
     "name": "stdout",
     "output_type": "stream",
     "text": [
      "Looking in indexes: https://pypi.org/simple, https://us-python.pkg.dev/colab-wheels/public/simple/\n",
      "Collecting scikit-elm\n",
      "  Downloading scikit_elm-0.21a0-py3-none-any.whl (30 kB)\n",
      "Requirement already satisfied: scikit-learn in /usr/local/lib/python3.10/dist-packages (from scikit-elm) (1.2.2)\n",
      "Requirement already satisfied: numpy in /usr/local/lib/python3.10/dist-packages (from scikit-elm) (1.22.4)\n",
      "Requirement already satisfied: scipy in /usr/local/lib/python3.10/dist-packages (from scikit-elm) (1.10.1)\n",
      "Requirement already satisfied: joblib>=1.1.1 in /usr/local/lib/python3.10/dist-packages (from scikit-learn->scikit-elm) (1.2.0)\n",
      "Requirement already satisfied: threadpoolctl>=2.0.0 in /usr/local/lib/python3.10/dist-packages (from scikit-learn->scikit-elm) (3.1.0)\n",
      "Installing collected packages: scikit-elm\n",
      "Successfully installed scikit-elm-0.21a0\n"
     ]
    }
   ],
   "source": [
    "!pip install scikit-elm"
   ]
  },
  {
   "cell_type": "code",
   "execution_count": 1,
   "metadata": {
    "id": "lOIj_c29mC9w"
   },
   "outputs": [],
   "source": [
    "import pandas as pd\n",
    "import matplotlib.pyplot as plt\n",
    "import numpy as np\n",
    "import seaborn as sns\n",
    "from sklearn import preprocessing\n",
    "from sklearn.model_selection import train_test_split\n",
    "from sklearn.metrics import accuracy_score\n",
    "from sklearn.ensemble import RandomForestClassifier\n",
    "from imblearn.over_sampling import SMOTE\n",
    "\n"
   ]
  },
  {
   "cell_type": "markdown",
   "metadata": {
    "id": "zWhOIe1OWFsT"
   },
   "source": [
    "# Load the cleaned dataset"
   ]
  },
  {
   "cell_type": "code",
   "execution_count": 2,
   "metadata": {
    "colab": {
     "base_uri": "https://localhost:8080/",
     "height": 287
    },
    "id": "SiEApZ4fjCuG",
    "outputId": "1b24432d-d1b0-42d7-be03-d0105ecdf482"
   },
   "outputs": [
    {
     "data": {
      "text/html": [
       "\n",
       "  <div id=\"df-2faed548-b69c-480e-88a3-4c524f449692\">\n",
       "    <div class=\"colab-df-container\">\n",
       "      <div>\n",
       "<style scoped>\n",
       "    .dataframe tbody tr th:only-of-type {\n",
       "        vertical-align: middle;\n",
       "    }\n",
       "\n",
       "    .dataframe tbody tr th {\n",
       "        vertical-align: top;\n",
       "    }\n",
       "\n",
       "    .dataframe thead th {\n",
       "        text-align: right;\n",
       "    }\n",
       "</style>\n",
       "<table border=\"1\" class=\"dataframe\">\n",
       "  <thead>\n",
       "    <tr style=\"text-align: right;\">\n",
       "      <th></th>\n",
       "      <th>Unnamed: 0</th>\n",
       "      <th>Area</th>\n",
       "      <th>Perimeter</th>\n",
       "      <th>MajorAxisLength</th>\n",
       "      <th>MinorAxisLength</th>\n",
       "      <th>AspectRation</th>\n",
       "      <th>Eccentricity</th>\n",
       "      <th>ConvexArea</th>\n",
       "      <th>EquivDiameter</th>\n",
       "      <th>Extent</th>\n",
       "      <th>Solidity</th>\n",
       "      <th>roundness</th>\n",
       "      <th>Compactness</th>\n",
       "      <th>ShapeFactor1</th>\n",
       "      <th>ShapeFactor2</th>\n",
       "      <th>ShapeFactor3</th>\n",
       "      <th>ShapeFactor4</th>\n",
       "      <th>Class</th>\n",
       "    </tr>\n",
       "  </thead>\n",
       "  <tbody>\n",
       "    <tr>\n",
       "      <th>0</th>\n",
       "      <td>0</td>\n",
       "      <td>28395</td>\n",
       "      <td>610.291</td>\n",
       "      <td>208.178117</td>\n",
       "      <td>173.888747</td>\n",
       "      <td>1.197191</td>\n",
       "      <td>0.549812</td>\n",
       "      <td>28715</td>\n",
       "      <td>190.141097</td>\n",
       "      <td>0.763923</td>\n",
       "      <td>0.988856</td>\n",
       "      <td>0.958027</td>\n",
       "      <td>0.913358</td>\n",
       "      <td>0.007332</td>\n",
       "      <td>0.003147</td>\n",
       "      <td>0.834222</td>\n",
       "      <td>0.998724</td>\n",
       "      <td>SEKER</td>\n",
       "    </tr>\n",
       "    <tr>\n",
       "      <th>1</th>\n",
       "      <td>1</td>\n",
       "      <td>29380</td>\n",
       "      <td>624.110</td>\n",
       "      <td>212.826130</td>\n",
       "      <td>175.931143</td>\n",
       "      <td>1.209713</td>\n",
       "      <td>0.562727</td>\n",
       "      <td>29690</td>\n",
       "      <td>193.410904</td>\n",
       "      <td>0.778113</td>\n",
       "      <td>0.989559</td>\n",
       "      <td>0.947849</td>\n",
       "      <td>0.908774</td>\n",
       "      <td>0.007244</td>\n",
       "      <td>0.003048</td>\n",
       "      <td>0.825871</td>\n",
       "      <td>0.999066</td>\n",
       "      <td>SEKER</td>\n",
       "    </tr>\n",
       "    <tr>\n",
       "      <th>2</th>\n",
       "      <td>2</td>\n",
       "      <td>30279</td>\n",
       "      <td>634.927</td>\n",
       "      <td>212.560556</td>\n",
       "      <td>181.510182</td>\n",
       "      <td>1.171067</td>\n",
       "      <td>0.520401</td>\n",
       "      <td>30600</td>\n",
       "      <td>196.347702</td>\n",
       "      <td>0.775688</td>\n",
       "      <td>0.989510</td>\n",
       "      <td>0.943852</td>\n",
       "      <td>0.923726</td>\n",
       "      <td>0.007020</td>\n",
       "      <td>0.003153</td>\n",
       "      <td>0.853270</td>\n",
       "      <td>0.999236</td>\n",
       "      <td>SEKER</td>\n",
       "    </tr>\n",
       "    <tr>\n",
       "      <th>3</th>\n",
       "      <td>3</td>\n",
       "      <td>30519</td>\n",
       "      <td>629.727</td>\n",
       "      <td>212.996755</td>\n",
       "      <td>182.737204</td>\n",
       "      <td>1.165591</td>\n",
       "      <td>0.513760</td>\n",
       "      <td>30847</td>\n",
       "      <td>197.124320</td>\n",
       "      <td>0.770682</td>\n",
       "      <td>0.989367</td>\n",
       "      <td>0.967109</td>\n",
       "      <td>0.925480</td>\n",
       "      <td>0.006979</td>\n",
       "      <td>0.003158</td>\n",
       "      <td>0.856514</td>\n",
       "      <td>0.998345</td>\n",
       "      <td>SEKER</td>\n",
       "    </tr>\n",
       "    <tr>\n",
       "      <th>4</th>\n",
       "      <td>4</td>\n",
       "      <td>30685</td>\n",
       "      <td>635.681</td>\n",
       "      <td>213.534145</td>\n",
       "      <td>183.157146</td>\n",
       "      <td>1.165852</td>\n",
       "      <td>0.514081</td>\n",
       "      <td>31044</td>\n",
       "      <td>197.659696</td>\n",
       "      <td>0.771561</td>\n",
       "      <td>0.988436</td>\n",
       "      <td>0.954240</td>\n",
       "      <td>0.925658</td>\n",
       "      <td>0.006959</td>\n",
       "      <td>0.003152</td>\n",
       "      <td>0.856844</td>\n",
       "      <td>0.998953</td>\n",
       "      <td>SEKER</td>\n",
       "    </tr>\n",
       "  </tbody>\n",
       "</table>\n",
       "</div>\n",
       "      <button class=\"colab-df-convert\" onclick=\"convertToInteractive('df-2faed548-b69c-480e-88a3-4c524f449692')\"\n",
       "              title=\"Convert this dataframe to an interactive table.\"\n",
       "              style=\"display:none;\">\n",
       "        \n",
       "  <svg xmlns=\"http://www.w3.org/2000/svg\" height=\"24px\"viewBox=\"0 0 24 24\"\n",
       "       width=\"24px\">\n",
       "    <path d=\"M0 0h24v24H0V0z\" fill=\"none\"/>\n",
       "    <path d=\"M18.56 5.44l.94 2.06.94-2.06 2.06-.94-2.06-.94-.94-2.06-.94 2.06-2.06.94zm-11 1L8.5 8.5l.94-2.06 2.06-.94-2.06-.94L8.5 2.5l-.94 2.06-2.06.94zm10 10l.94 2.06.94-2.06 2.06-.94-2.06-.94-.94-2.06-.94 2.06-2.06.94z\"/><path d=\"M17.41 7.96l-1.37-1.37c-.4-.4-.92-.59-1.43-.59-.52 0-1.04.2-1.43.59L10.3 9.45l-7.72 7.72c-.78.78-.78 2.05 0 2.83L4 21.41c.39.39.9.59 1.41.59.51 0 1.02-.2 1.41-.59l7.78-7.78 2.81-2.81c.8-.78.8-2.07 0-2.86zM5.41 20L4 18.59l7.72-7.72 1.47 1.35L5.41 20z\"/>\n",
       "  </svg>\n",
       "      </button>\n",
       "      \n",
       "  <style>\n",
       "    .colab-df-container {\n",
       "      display:flex;\n",
       "      flex-wrap:wrap;\n",
       "      gap: 12px;\n",
       "    }\n",
       "\n",
       "    .colab-df-convert {\n",
       "      background-color: #E8F0FE;\n",
       "      border: none;\n",
       "      border-radius: 50%;\n",
       "      cursor: pointer;\n",
       "      display: none;\n",
       "      fill: #1967D2;\n",
       "      height: 32px;\n",
       "      padding: 0 0 0 0;\n",
       "      width: 32px;\n",
       "    }\n",
       "\n",
       "    .colab-df-convert:hover {\n",
       "      background-color: #E2EBFA;\n",
       "      box-shadow: 0px 1px 2px rgba(60, 64, 67, 0.3), 0px 1px 3px 1px rgba(60, 64, 67, 0.15);\n",
       "      fill: #174EA6;\n",
       "    }\n",
       "\n",
       "    [theme=dark] .colab-df-convert {\n",
       "      background-color: #3B4455;\n",
       "      fill: #D2E3FC;\n",
       "    }\n",
       "\n",
       "    [theme=dark] .colab-df-convert:hover {\n",
       "      background-color: #434B5C;\n",
       "      box-shadow: 0px 1px 3px 1px rgba(0, 0, 0, 0.15);\n",
       "      filter: drop-shadow(0px 1px 2px rgba(0, 0, 0, 0.3));\n",
       "      fill: #FFFFFF;\n",
       "    }\n",
       "  </style>\n",
       "\n",
       "      <script>\n",
       "        const buttonEl =\n",
       "          document.querySelector('#df-2faed548-b69c-480e-88a3-4c524f449692 button.colab-df-convert');\n",
       "        buttonEl.style.display =\n",
       "          google.colab.kernel.accessAllowed ? 'block' : 'none';\n",
       "\n",
       "        async function convertToInteractive(key) {\n",
       "          const element = document.querySelector('#df-2faed548-b69c-480e-88a3-4c524f449692');\n",
       "          const dataTable =\n",
       "            await google.colab.kernel.invokeFunction('convertToInteractive',\n",
       "                                                     [key], {});\n",
       "          if (!dataTable) return;\n",
       "\n",
       "          const docLinkHtml = 'Like what you see? Visit the ' +\n",
       "            '<a target=\"_blank\" href=https://colab.research.google.com/notebooks/data_table.ipynb>data table notebook</a>'\n",
       "            + ' to learn more about interactive tables.';\n",
       "          element.innerHTML = '';\n",
       "          dataTable['output_type'] = 'display_data';\n",
       "          await google.colab.output.renderOutput(dataTable, element);\n",
       "          const docLink = document.createElement('div');\n",
       "          docLink.innerHTML = docLinkHtml;\n",
       "          element.appendChild(docLink);\n",
       "        }\n",
       "      </script>\n",
       "    </div>\n",
       "  </div>\n",
       "  "
      ],
      "text/plain": [
       "   Unnamed: 0   Area  Perimeter  MajorAxisLength  MinorAxisLength  \\\n",
       "0           0  28395    610.291       208.178117       173.888747   \n",
       "1           1  29380    624.110       212.826130       175.931143   \n",
       "2           2  30279    634.927       212.560556       181.510182   \n",
       "3           3  30519    629.727       212.996755       182.737204   \n",
       "4           4  30685    635.681       213.534145       183.157146   \n",
       "\n",
       "   AspectRation  Eccentricity  ConvexArea  EquivDiameter    Extent  Solidity  \\\n",
       "0      1.197191      0.549812       28715     190.141097  0.763923  0.988856   \n",
       "1      1.209713      0.562727       29690     193.410904  0.778113  0.989559   \n",
       "2      1.171067      0.520401       30600     196.347702  0.775688  0.989510   \n",
       "3      1.165591      0.513760       30847     197.124320  0.770682  0.989367   \n",
       "4      1.165852      0.514081       31044     197.659696  0.771561  0.988436   \n",
       "\n",
       "   roundness  Compactness  ShapeFactor1  ShapeFactor2  ShapeFactor3  \\\n",
       "0   0.958027     0.913358      0.007332      0.003147      0.834222   \n",
       "1   0.947849     0.908774      0.007244      0.003048      0.825871   \n",
       "2   0.943852     0.923726      0.007020      0.003153      0.853270   \n",
       "3   0.967109     0.925480      0.006979      0.003158      0.856514   \n",
       "4   0.954240     0.925658      0.006959      0.003152      0.856844   \n",
       "\n",
       "   ShapeFactor4  Class  \n",
       "0      0.998724  SEKER  \n",
       "1      0.999066  SEKER  \n",
       "2      0.999236  SEKER  \n",
       "3      0.998345  SEKER  \n",
       "4      0.998953  SEKER  "
      ]
     },
     "execution_count": 2,
     "metadata": {},
     "output_type": "execute_result"
    }
   ],
   "source": [
    "df = pd.read_csv('/content/Group_3_data_cleaned.csv')\n",
    "df.head()"
   ]
  },
  {
   "cell_type": "code",
   "execution_count": 3,
   "metadata": {
    "id": "Q_0U3tHeqaML"
   },
   "outputs": [],
   "source": [
    "df = df.drop(['Unnamed: 0'],axis=1)"
   ]
  },
  {
   "cell_type": "markdown",
   "metadata": {
    "id": "oFxGVLWYWKdN"
   },
   "source": [
    "**Split the independent and dependent variables; scale the input features and encode the output variables**"
   ]
  },
  {
   "cell_type": "code",
   "execution_count": 4,
   "metadata": {
    "id": "zoRMp9DfmHXq"
   },
   "outputs": [],
   "source": [
    "X = df.drop(\"Class\", axis=1)\n",
    "Y = df['Class']\n",
    "normalizer = preprocessing.StandardScaler()\n",
    "norm_X = normalizer.fit_transform(X)"
   ]
  },
  {
   "cell_type": "code",
   "execution_count": 5,
   "metadata": {
    "id": "3I-0TrSM4JG8"
   },
   "outputs": [],
   "source": [
    "lab_enc = preprocessing.LabelEncoder()\n",
    "label_Y = lab_enc.fit_transform(Y)"
   ]
  },
  {
   "cell_type": "code",
   "execution_count": 53,
   "metadata": {
    "id": "Z3540TgDYom-"
   },
   "outputs": [],
   "source": [
    "lb = preprocessing.LabelBinarizer()\n",
    "label_train = lb.fit_transform(Y)\n"
   ]
  },
  {
   "cell_type": "markdown",
   "metadata": {
    "id": "hdT4685vXUn8"
   },
   "source": [
    "**Using sklearn ELM module for modeling the classifier**"
   ]
  },
  {
   "cell_type": "markdown",
   "metadata": {
    "id": "FLYPGZVY62Nk"
   },
   "source": [
    "Perform model structure selection with the no of neurons in the hidden layer from 20 to 2000 in steps of 30."
   ]
  },
  {
   "cell_type": "code",
   "execution_count": 54,
   "metadata": {
    "id": "gvnNguhfYhQ7"
   },
   "outputs": [],
   "source": [
    "# splut train and val subsets\n",
    "X_train, X_test, y_train, y_test = train_test_split(norm_X, label_train, random_state=8, stratify=label_train, test_size=0.3  )\n"
   ]
  },
  {
   "cell_type": "code",
   "execution_count": 51,
   "metadata": {
    "id": "NeQZvv-oX1oN"
   },
   "outputs": [],
   "source": [
    "# range fo neurons in the hidden layer of the ELM SLFN\n",
    "n_neurons = range(20,2000,30)"
   ]
  },
  {
   "cell_type": "code",
   "execution_count": 58,
   "metadata": {
    "id": "alfAkbsgYJpQ"
   },
   "outputs": [],
   "source": [
    "from skelm import ELMClassifier\n",
    "acc = []\n",
    "for nn in n_neurons:\n",
    "  elm = ELMClassifier(n_neurons=nn)\n",
    "  elm.fit(X_train, y_train)\n",
    "  acc.append(elm.score(X_test, y_test))"
   ]
  },
  {
   "cell_type": "markdown",
   "metadata": {
    "id": "u5XU_KZj7XFi"
   },
   "source": [
    "**Get the best accuracy and the corresponding no of neurons **"
   ]
  },
  {
   "cell_type": "code",
   "execution_count": 60,
   "metadata": {
    "colab": {
     "base_uri": "https://localhost:8080/"
    },
    "id": "_ufaFzlWZ5Os",
    "outputId": "ee239936-915c-4c81-fc2f-cb8da85943ea"
   },
   "outputs": [
    {
     "data": {
      "text/plain": [
       "0.8889802631578947"
      ]
     },
     "execution_count": 60,
     "metadata": {},
     "output_type": "execute_result"
    }
   ],
   "source": [
    "best_acc = max(acc)\n",
    "best_acc"
   ]
  },
  {
   "cell_type": "code",
   "execution_count": 74,
   "metadata": {
    "colab": {
     "base_uri": "https://localhost:8080/"
    },
    "id": "NlAPBmurbUVh",
    "outputId": "bc64a394-fe81-4423-810b-2bb6585704f9"
   },
   "outputs": [
    {
     "data": {
      "text/plain": [
       "680"
      ]
     },
     "execution_count": 74,
     "metadata": {},
     "output_type": "execute_result"
    }
   ],
   "source": [
    "n_neurons[np.argmax(np.array(acc))]"
   ]
  },
  {
   "cell_type": "markdown",
   "metadata": {
    "id": "sZqBOKiX77ts"
   },
   "source": [
    "**Check the performance by fixing class imbalance. Using SMOTE and retraining the ELM.**"
   ]
  },
  {
   "cell_type": "code",
   "execution_count": 38,
   "metadata": {
    "id": "UpDqMzWwNH-5"
   },
   "outputs": [],
   "source": [
    "sm = SMOTE(random_state=12)\n",
    "X_sm, Y_sm = sm.fit_resample(norm_X, label_Y)\n",
    "\n",
    "# Bar Chart to visualize the labels in the output variable in the SMOTE Balanced Dataset\n",
    "Y_balanced = lab_enc.inverse_transform(Y_sm)\n",
    "Y_balanced = pd.Index(Y_balanced, name='Class')\n",
    "var = Y_balanced\n",
    "varValue = var.value_counts()"
   ]
  },
  {
   "cell_type": "code",
   "execution_count": 76,
   "metadata": {
    "id": "jb-6ntR3g2L4"
   },
   "outputs": [],
   "source": [
    "lb = preprocessing.LabelBinarizer()\n",
    "label_train = lb.fit_transform(Y_sm)"
   ]
  },
  {
   "cell_type": "code",
   "execution_count": 77,
   "metadata": {
    "id": "9_b8ECKbg7O3"
   },
   "outputs": [],
   "source": [
    "X_sm_train, X_sm_test, y_sm_train, y_sm_test = train_test_split(X_sm, label_train, random_state=8, stratify=label_train, test_size=0.3  )\n"
   ]
  },
  {
   "cell_type": "code",
   "execution_count": 78,
   "metadata": {
    "id": "90cDTvS-gdJN"
   },
   "outputs": [],
   "source": [
    "smote_acc = []\n",
    "for nn in n_neurons:\n",
    "  elm = ELMClassifier(n_neurons=nn)\n",
    "  elm.fit(X_sm_train, y_sm_train)\n",
    "  smote_acc.append(elm.score(X_sm_test, y_sm_test))"
   ]
  },
  {
   "cell_type": "code",
   "execution_count": 81,
   "metadata": {
    "colab": {
     "base_uri": "https://localhost:8080/"
    },
    "id": "44MM4alLiPoj",
    "outputId": "573563c9-3aae-4021-c79e-5d3de204b544"
   },
   "outputs": [
    {
     "data": {
      "text/plain": [
       "0.9062253743104807"
      ]
     },
     "execution_count": 81,
     "metadata": {},
     "output_type": "execute_result"
    }
   ],
   "source": [
    "max(smote_acc)"
   ]
  },
  {
   "cell_type": "code",
   "execution_count": 80,
   "metadata": {
    "colab": {
     "base_uri": "https://localhost:8080/"
    },
    "id": "fqn7wQShiDWy",
    "outputId": "99c3c528-e3b8-40c2-fb04-22101bb7ccf3"
   },
   "outputs": [
    {
     "data": {
      "text/plain": [
       "380"
      ]
     },
     "execution_count": 80,
     "metadata": {},
     "output_type": "execute_result"
    }
   ],
   "source": [
    "n_neurons[np.argmax(np.array(smote_acc))]"
   ]
  },
  {
   "cell_type": "markdown",
   "metadata": {
    "id": "QNLsTBBp86HP"
   },
   "source": [
    "**We can observe that the accuracy increased to 90.6% from 88.9% with a significant drop in the no of neurons required in the hidden layer. It was 680 neurons and now, it only needs 380 neurons.**"
   ]
  },
  {
   "cell_type": "markdown",
   "metadata": {
    "id": "mUWK0aYw9cNr"
   },
   "source": [
    "The following plot shows the trend between accuracy and the no of neurons."
   ]
  },
  {
   "cell_type": "code",
   "execution_count": 85,
   "metadata": {
    "colab": {
     "base_uri": "https://localhost:8080/",
     "height": 472
    },
    "id": "tKpertnU5f6B",
    "outputId": "7a884813-790c-4d09-febf-29dd59e343b2"
   },
   "outputs": [
    {
     "data": {
      "image/png": "[encoded data removed]",
      "text/plain": [
       "<Figure size 640x480 with 1 Axes>"
      ]
     },
     "metadata": {},
     "output_type": "display_data"
    }
   ],
   "source": [
    "plt.plot(np.array(n_neurons[:30]), np.array(smote_acc[:30]), color='red', marker='o')\n",
    "plt.title('Hidden Neuron')\n",
    "plt.xlabel('hidden neuron')\n",
    "plt.ylabel('Accuracy')\n",
    "plt.show()\n",
    "\n",
    "plt.show()"
   ]
  },
  {
   "cell_type": "markdown",
   "metadata": {
    "id": "0sNgghMe-Pf-"
   },
   "source": [
    "# ELM scratch"
   ]
  },
  {
   "cell_type": "code",
   "execution_count": null,
   "metadata": {
    "id": "MbOQtnIfqYQY"
   },
   "outputs": [],
   "source": [
    "--------------------------------------------------------------------- for var selection, skip from here "
   ]
  },
  {
   "cell_type": "code",
   "execution_count": null,
   "metadata": {
    "id": "Y9HM0LxavuJX"
   },
   "outputs": [],
   "source": [
    "lb = preprocessing.LabelBinarizer()\n",
    "label_train = lb.fit_transform(Y)\n"
   ]
  },
  {
   "cell_type": "code",
   "execution_count": null,
   "metadata": {
    "colab": {
     "base_uri": "https://localhost:8080/"
    },
    "id": "ZRtgRRp7pVra",
    "outputId": "f356e497-cb17-45bc-9b46-0121220be89c"
   },
   "outputs": [
    {
     "data": {
      "text/plain": [
       "array([[0, 0, 0, 0, 1, 0],\n",
       "       [0, 0, 0, 0, 1, 0],\n",
       "       [0, 0, 0, 0, 1, 0],\n",
       "       ...,\n",
       "       [0, 0, 1, 0, 0, 0],\n",
       "       [0, 0, 1, 0, 0, 0],\n",
       "       [0, 0, 1, 0, 0, 0]])"
      ]
     },
     "execution_count": 9,
     "metadata": {},
     "output_type": "execute_result"
    }
   ],
   "source": [
    "label_train"
   ]
  },
  {
   "cell_type": "code",
   "execution_count": null,
   "metadata": {
    "id": "2ULuTp8OwyO7"
   },
   "outputs": [],
   "source": [
    "X_train, X_test, y_train, y_test = train_test_split(norm_X, label_train, random_state=8, stratify=label_train, test_size=0.3  )"
   ]
  },
  {
   "cell_type": "code",
   "execution_count": null,
   "metadata": {
    "id": "lB6Wjps8xFqe"
   },
   "outputs": [],
   "source": [
    "inputSize = X_train.shape[1]\n",
    "weight = np.matrix(np.random.uniform(0, 1, (512, inputSize)))\n",
    "bias = np.matrix(np.random.uniform(0, 1, (1, 512)))\n",
    "outputSize = 1\n",
    "hiddenSize = 512\n",
    "H = 0\n",
    "beta = 0"
   ]
  },
  {
   "cell_type": "code",
   "execution_count": null,
   "metadata": {
    "id": "9xUklNg1xsOM"
   },
   "outputs": [],
   "source": [
    "X = np.matrix(X_train)\n",
    "y = np.matrix(y_train)        \n",
    "H = (X * weight.T) + bias"
   ]
  },
  {
   "cell_type": "code",
   "execution_count": null,
   "metadata": {
    "id": "NtWc2tf1xtko"
   },
   "outputs": [],
   "source": [
    "def sigmoid(x):\n",
    "    return 1 / (1 + np.exp(-1 * x))\n",
    "\n",
    "H = sigmoid(H) "
   ]
  },
  {
   "cell_type": "code",
   "execution_count": null,
   "metadata": {
    "id": "pfN79dXvxxV4"
   },
   "outputs": [],
   "source": [
    "H_moore_penrose = np.linalg.inv(H.T * H) * H.T\n"
   ]
  },
  {
   "cell_type": "code",
   "execution_count": null,
   "metadata": {
    "colab": {
     "base_uri": "https://localhost:8080/"
    },
    "id": "BSo_DsaRx0B7",
    "outputId": "b869e9f9-9d2a-4910-d972-97d97b7ad62d"
   },
   "outputs": [
    {
     "data": {
      "text/plain": [
       "matrix([[ -4.74830311,   1.31558352,   3.2255561 ,   0.72988245,\n",
       "           3.71245474,  -4.49878212],\n",
       "        [  1.01367139,   0.94522337,  -1.03002112,   5.48866741,\n",
       "          -0.5054571 ,  -5.64626561],\n",
       "        [ -4.41424721,   2.93131135,   3.34777152,  -0.93782016,\n",
       "           1.12932953,  -2.63877609],\n",
       "        ...,\n",
       "        [  1.58235661,   0.4439632 ,   0.37745168,  -3.79006981,\n",
       "          -2.03845237,   3.43577387],\n",
       "        [  6.04454923,  -1.93008207,  -4.30534933,   0.73081062,\n",
       "          -2.99419246,   2.84947242],\n",
       "        [-14.4601342 ,   9.62589906,  -1.50437031,   2.01230956,\n",
       "           2.44201545,   2.11584734]])"
      ]
     },
     "execution_count": 35,
     "metadata": {},
     "output_type": "execute_result"
    }
   ],
   "source": [
    "beta = H_moore_penrose * y\n",
    "beta"
   ]
  },
  {
   "cell_type": "code",
   "execution_count": null,
   "metadata": {
    "id": "rGuVj8dYx21r"
   },
   "outputs": [],
   "source": [
    "result_train = H * beta\n",
    "y_pred = (result_train > 0.5).astype(int)\n"
   ]
  },
  {
   "cell_type": "code",
   "execution_count": null,
   "metadata": {
    "colab": {
     "base_uri": "https://localhost:8080/"
    },
    "id": "7CN3_genx_56",
    "outputId": "998175d4-78f3-46b9-f0c2-13b4c3cd2e3a"
   },
   "outputs": [
    {
     "name": "stdout",
     "output_type": "stream",
     "text": [
      "Accuracy Training:  0.9198684055927623\n"
     ]
    }
   ],
   "source": [
    "y_test_new = lb.fit_transform(y_train)\n",
    "print('Accuracy Training: ', accuracy_score(np.asarray(y_test_new), np.asarray(y_pred)))"
   ]
  },
  {
   "cell_type": "code",
   "execution_count": null,
   "metadata": {
    "colab": {
     "base_uri": "https://localhost:8080/"
    },
    "id": "EmZ-v5SIyX7L",
    "outputId": "e7af1002-a166-4f8e-ace9-5eba62253dfe"
   },
   "outputs": [
    {
     "name": "stdout",
     "output_type": "stream",
     "text": [
      "Accuracy Testing:  0.8947368421052632\n"
     ]
    }
   ],
   "source": [
    "X = np.matrix(X_test)\n",
    "resul_test = sigmoid((X * weight.T) + bias) * beta\n",
    "y_test_new = lb.fit_transform(y_test)\n",
    "y_pred = (resul_test > 0.5).astype(int)\n",
    "score = accuracy_score(np.asarray(y_test_new), np.asarray(y_pred))\n",
    "print('Accuracy Testing: ', score)"
   ]
  },
  {
   "cell_type": "code",
   "execution_count": null,
   "metadata": {
    "id": "baNTYqxU5Yop"
   },
   "outputs": [],
   "source": [
    "class ELM(object):  \n",
    "  def __init__(self, inputSize, outputSize, hiddenSize, weight, bias):\n",
    "    self.inputSize = inputSize\n",
    "    self.outputSize = outputSize\n",
    "    self.hiddenSize = hiddenSize  \n",
    "    self.weight = weight\n",
    "    self.bias = bias\n",
    "    self.H = 0\n",
    "    self.beta = 0\n",
    "\n",
    "  def sigmoid(self, x):\n",
    "    return 1 / (1 + np.exp(-1 * x))\n",
    "\n",
    "  def predict(self, X):\n",
    "    X = np.matrix(X)\n",
    "    y = self.sigmoid((X * self.weight.T) + self.bias) * self.beta\n",
    "    return y\n",
    "\n",
    "  def train(self, X, y):\n",
    "    X = np.matrix(X)\n",
    "    y = np.matrix(y)        \n",
    "    self.H = (X * self.weight.T) + self.bias\n",
    "    self.H = self.sigmoid(self.H)      \n",
    "    H_moore_penrose = np.linalg.inv(self.H.T * self.H) * self.H.T\n",
    "    self.beta = H_moore_penrose * y\n",
    "    return self.H * self.beta"
   ]
  },
  {
   "cell_type": "code",
   "execution_count": null,
   "metadata": {
    "colab": {
     "base_uri": "https://localhost:8080/"
    },
    "id": "H-jTfdk15SgV",
    "outputId": "01cb9686-8c12-441d-8719-72fd311b054c"
   },
   "outputs": [
    {
     "data": {
      "text/plain": [
       "10"
      ]
     },
     "execution_count": 41,
     "metadata": {},
     "output_type": "execute_result"
    }
   ],
   "source": [
    "from sklearn.model_selection import KFold\n",
    "kf = KFold(n_splits=10, random_state=1, shuffle=True) \n",
    "kf.get_n_splits(norm_X)"
   ]
  },
  {
   "cell_type": "code",
   "execution_count": null,
   "metadata": {
    "colab": {
     "base_uri": "https://localhost:8080/"
    },
    "id": "Vgntq4fw4bkL",
    "outputId": "aebe09f7-61da-4f6e-82d2-717dd5cd5c80"
   },
   "outputs": [
    {
     "name": "stdout",
     "output_type": "stream",
     "text": [
      "Mean Accuracy Training :  0.7068287073220456\n",
      "Mean Accuracy Testing : 0.7119862735542559\n",
      "-------------------------------\n",
      "Mean Accuracy Training :  0.850371498235407\n",
      "Mean Accuracy Testing : 0.8501514105479748\n",
      "-------------------------------\n",
      "Mean Accuracy Training :  0.8798146340647148\n",
      "Mean Accuracy Testing : 0.8755657759367554\n",
      "-------------------------------\n",
      "Mean Accuracy Training :  0.8977620627061118\n",
      "Mean Accuracy Testing : 0.8902047460472169\n",
      "-------------------------------\n",
      "Mean Accuracy Training :  0.9114693136096508\n",
      "Mean Accuracy Testing : 0.900814178579164\n",
      "-------------------------------\n"
     ]
    }
   ],
   "source": [
    "hidden=[16,64,128,256,512]\n",
    "arrHiddenLayer = []\n",
    "for h in hidden:\n",
    "    acc_train = [] \n",
    "    acc_test = []\n",
    "    for train_index, test_index in kf.split(norm_X):\n",
    "        X_train, X_test = norm_X[train_index], norm_X[test_index]\n",
    "        y_train, y_test = label_train[train_index], label_train[test_index]\n",
    "\n",
    "        inputSize = X_train.shape[1]\n",
    "        weight = np.matrix(np.random.uniform(0, 1, (h, inputSize)))\n",
    "        bias = np.matrix(np.random.uniform(0, 1, (1, h)))\n",
    "        elm = ELM(inputSize, 1, h, weight, bias )\n",
    "\n",
    "        hasilTrain = elm.train(X_train, y_train)\n",
    "        y_test_new = lb.fit_transform(y_train)\n",
    "        y_pred = (hasilTrain > 0.5).astype(int)\n",
    "        acc = accuracy_score(np.asarray(y_test_new), np.asarray(y_pred))\n",
    "#         print('Accuracy Training: ', acc)\n",
    "        acc_train.append(acc)\n",
    "\n",
    "        # ------------ Testing -----------\n",
    "        y_pred = elm.predict(X_test)\n",
    "        y_test_new = lb.fit_transform(y_test)\n",
    "        y_pred = (y_pred > 0.5).astype(int)\n",
    "        score = accuracy_score(np.asarray(y_test_new), np.asarray(y_pred))\n",
    "#         print('Accuracy Testing: ', score)\n",
    "        acc_test.append(score)\n",
    "    print('Mean Accuracy Training : ',np.mean(acc_train))\n",
    "    print('Mean Accuracy Testing :', np.mean(acc_test))\n",
    "    print('-------------------------------')\n",
    "    arrHiddenLayer.append(np.mean(acc_test))"
   ]
  },
  {
   "cell_type": "markdown",
   "metadata": {
    "id": "TKU-pCl7-XlD"
   },
   "source": [
    "# Variable Selection using bidirectional elimination wrapper method"
   ]
  },
  {
   "cell_type": "code",
   "execution_count": 6,
   "metadata": {
    "id": "xN1MSyHtopAy"
   },
   "outputs": [],
   "source": [
    "import joblib\n",
    "import sys\n",
    "sys.modules['sklearn.externals.joblib'] = joblib\n",
    "from mlxtend.feature_selection import SequentialFeatureSelector as SFS\n",
    "from sklearn.linear_model import LogisticRegression"
   ]
  },
  {
   "cell_type": "code",
   "execution_count": 7,
   "metadata": {
    "colab": {
     "base_uri": "https://localhost:8080/"
    },
    "id": "XmB7HQgF270V",
    "outputId": "115897a5-f1de-4cff-f24d-fb4da439905d"
   },
   "outputs": [
    {
     "data": {
      "text/plain": [
       "0           SEKER\n",
       "1           SEKER\n",
       "2           SEKER\n",
       "3           SEKER\n",
       "4           SEKER\n",
       "           ...   \n",
       "12154    DERMASON\n",
       "12155    DERMASON\n",
       "12156    DERMASON\n",
       "12157    DERMASON\n",
       "12158    DERMASON\n",
       "Name: Class, Length: 12159, dtype: object"
      ]
     },
     "execution_count": 7,
     "metadata": {},
     "output_type": "execute_result"
    }
   ],
   "source": [
    "Y"
   ]
  },
  {
   "cell_type": "code",
   "execution_count": 8,
   "metadata": {
    "id": "SC4R3vkn426Y"
   },
   "outputs": [],
   "source": [
    "Y = df['Class'].values\n"
   ]
  },
  {
   "cell_type": "code",
   "execution_count": 9,
   "metadata": {
    "id": "s2SqiQzH61Jp"
   },
   "outputs": [],
   "source": [
    "X=X.values"
   ]
  },
  {
   "cell_type": "markdown",
   "metadata": {
    "id": "XHv44nMS-tEc"
   },
   "source": [
    "**Choosing a minimum of 6 features and maximum of 15 features in the bidirectional wrapper on a base classifier Logistic regression**"
   ]
  },
  {
   "cell_type": "code",
   "execution_count": null,
   "metadata": {
    "id": "GmI6lYyy7i57"
   },
   "outputs": [],
   "source": [
    "sffs = SFS(LogisticRegression(multi_class='ovr'),\n",
    "         k_features=(6,12),\n",
    "         forward=True,\n",
    "         floating=True,\n",
    "         scoring='accuracy',\n",
    "         cv=5)\n",
    "sffs.fit(X, Y)\n",
    "sffs.k_feature_names_"
   ]
  },
  {
   "cell_type": "code",
   "execution_count": 11,
   "metadata": {
    "colab": {
     "base_uri": "https://localhost:8080/"
    },
    "id": "OyEtxD4tBhgq",
    "outputId": "93883764-fb19-4568-8299-4bc76bebc46c"
   },
   "outputs": [
    {
     "data": {
      "text/plain": [
       "('1', '2', '3', '5', '7', '8', '10', '12', '13', '15')"
      ]
     },
     "execution_count": 11,
     "metadata": {},
     "output_type": "execute_result"
    }
   ],
   "source": [
    "sffs.k_feature_names_"
   ]
  },
  {
   "cell_type": "code",
   "execution_count": 12,
   "metadata": {
    "id": "NUDtjl2RH2hr"
   },
   "outputs": [],
   "source": [
    "feat = list(df.columns)\n",
    "indices = [int(i)  for i in sffs.k_feature_names_]\n",
    "selected_feat = [feat[i] for i in indices]"
   ]
  },
  {
   "cell_type": "markdown",
   "metadata": {
    "id": "WcReLYzB_UcA"
   },
   "source": [
    "**The following are the selected features**\n"
   ]
  },
  {
   "cell_type": "code",
   "execution_count": 13,
   "metadata": {
    "colab": {
     "base_uri": "https://localhost:8080/"
    },
    "id": "Uy03fXgQIflP",
    "outputId": "cd31cc75-d9f9-4415-e953-a9eaf1a81a4a"
   },
   "outputs": [
    {
     "data": {
      "text/plain": [
       "['Perimeter',\n",
       " 'MajorAxisLength',\n",
       " 'MinorAxisLength',\n",
       " 'Eccentricity',\n",
       " 'EquivDiameter',\n",
       " 'Extent',\n",
       " 'roundness',\n",
       " 'ShapeFactor1',\n",
       " 'ShapeFactor2',\n",
       " 'ShapeFactor4']"
      ]
     },
     "execution_count": 13,
     "metadata": {},
     "output_type": "execute_result"
    }
   ],
   "source": [
    "selected_feat"
   ]
  },
  {
   "cell_type": "markdown",
   "metadata": {
    "id": "qG8Jil-6DGAa"
   },
   "source": [
    "# Train the best performing models (Random Forest and Neural Network) again with the selected features and check if the performance improves."
   ]
  },
  {
   "cell_type": "code",
   "execution_count": 22,
   "metadata": {
    "id": "N4WigvsPGohp"
   },
   "outputs": [],
   "source": [
    "from sklearn.ensemble import RandomForestClassifier\n",
    "import sklearn.metrics as metrics\n"
   ]
  },
  {
   "cell_type": "code",
   "execution_count": 17,
   "metadata": {
    "id": "ZF1acxKKHD2e"
   },
   "outputs": [],
   "source": [
    "from sklearn.metrics import confusion_matrix, classification_report\n",
    "\n",
    "# function to create confusion matrix heatmap view.\n",
    "\n",
    "def plot2(y_true, y_pred):\n",
    "    plt.figure(figsize=(15,8))\n",
    "    column=[f'Predicted {label}' for label in labels]\n",
    "    indices=[f'Actual {label}' for label in labels]\n",
    "    table=pd.DataFrame(confusion_matrix(y_true, y_pred), columns=column, index=indices)\n",
    "    \n",
    "    return sns.heatmap(table,  fmt='d', cmap='viridis',\n",
    "                 annot = True, square=True)"
   ]
  },
  {
   "cell_type": "code",
   "execution_count": 18,
   "metadata": {
    "id": "zn3uuc07G5xV"
   },
   "outputs": [],
   "source": [
    "def training_model_metrics(model, X, Y):\n",
    "    train_x, test_x, train_y, test_y = train_test_split(X, Y, test_size=0.2, random_state=12, shuffle=True)\n",
    "    model.fit(train_x, train_y)\n",
    "    y_pred = model.predict(test_x)\n",
    "    model_acc = metrics.accuracy_score(test_y, y_pred)\n",
    "    f1_measure = metrics.f1_score(test_y, y_pred, average='macro')\n",
    "    model_precision = metrics.precision_score(test_y, y_pred, average='macro')\n",
    "    model_recall = metrics.recall_score(test_y, y_pred, average='macro')\n",
    "    print('Accuracy: %.3f, f1 measure: %.3f, precision: %.3f, recall: %.3f' % (model_acc, f1_measure, model_precision, model_recall))\n",
    "    plot2(test_y, model.predict(test_x));\n",
    "    plt.show()"
   ]
  },
  {
   "cell_type": "markdown",
   "metadata": {
    "id": "98jBkE_LEZLq"
   },
   "source": [
    "**Define the random forest model with the best parameters obtained from the model structure selection**"
   ]
  },
  {
   "cell_type": "code",
   "execution_count": 20,
   "metadata": {
    "id": "eJioxMUOBiBf"
   },
   "outputs": [],
   "source": [
    "rf_model = RandomForestClassifier(random_state=12,n_estimators=15,max_depth=9)"
   ]
  },
  {
   "cell_type": "markdown",
   "metadata": {
    "id": "QlkRl5FeEkjF"
   },
   "source": [
    "**Reduce the feature space to the selected features obtained**"
   ]
  },
  {
   "cell_type": "code",
   "execution_count": null,
   "metadata": {
    "id": "CXvBgoduHZOC"
   },
   "outputs": [],
   "source": [
    "X_selected = df[selected_feat]\n",
    "Y = df[\"Class\"]"
   ]
  },
  {
   "cell_type": "code",
   "execution_count": 24,
   "metadata": {
    "colab": {
     "base_uri": "https://localhost:8080/"
    },
    "id": "H39Bops7UL6G",
    "outputId": "47e81076-74b0-46d8-9cd1-712e897db0c5"
   },
   "outputs": [
    {
     "data": {
      "text/plain": [
       "array(['SEKER', 'BARBUNYA', 'CALI', 'HOROZ', 'SIRA', 'DERMASON'],\n",
       "      dtype=object)"
      ]
     },
     "execution_count": 24,
     "metadata": {},
     "output_type": "execute_result"
    }
   ],
   "source": [
    "labels = df.Class.unique()\n",
    "labels"
   ]
  },
  {
   "cell_type": "code",
   "execution_count": null,
   "metadata": {
    "colab": {
     "base_uri": "https://localhost:8080/"
    },
    "id": "DQPiKCgOI3_1",
    "outputId": "28c6ea14-8c7c-4c8f-8d16-7f8181dd77a8"
   },
   "outputs": [
    {
     "data": {
      "text/plain": [
       "(12159, 8)"
      ]
     },
     "execution_count": 71,
     "metadata": {},
     "output_type": "execute_result"
    }
   ],
   "source": [
    "X_selected.shape"
   ]
  },
  {
   "cell_type": "code",
   "execution_count": null,
   "metadata": {
    "id": "lttvcdl7JH3g"
   },
   "outputs": [],
   "source": [
    "lab_enc = preprocessing.LabelEncoder()\n",
    "label_Y = lab_enc.fit_transform(Y)\n",
    "\n",
    "# Normalize the input features of the dataset\n",
    "normalizer = preprocessing.StandardScaler()\n",
    "norm_X = normalizer.fit_transform(X_selected)"
   ]
  },
  {
   "cell_type": "code",
   "execution_count": null,
   "metadata": {
    "colab": {
     "base_uri": "https://localhost:8080/",
     "height": 831
    },
    "id": "O3mkmXB1HWLX",
    "outputId": "07393b4b-7b83-4a4f-fce1-5c90a09456d3"
   },
   "outputs": [
    {
     "name": "stdout",
     "output_type": "stream",
     "text": [
      "Accuracy: 0.911, f1 measure: 0.915, precision: 0.918, recall: 0.912\n"
     ]
    },
    {
     "data": {
      "image/png": "[encoded data removed]",
      "text/plain": [
       "<Figure size 1500x800 with 2 Axes>"
      ]
     },
     "metadata": {},
     "output_type": "display_data"
    }
   ],
   "source": [
    "training_model_metrics(rf_model, X_selected, label_Y)"
   ]
  },
  {
   "cell_type": "markdown",
   "metadata": {
    "id": "QAILJqfbNWX7"
   },
   "source": [
    "**We can see that the accuracy dropped slightly after using only the selected features. We'll try balancing the dataset and performing PCA and reducing dimension to 8 components and using the selected features to improve the performance.**"
   ]
  },
  {
   "cell_type": "code",
   "execution_count": 14,
   "metadata": {
    "id": "e5WPyDRD39uH"
   },
   "outputs": [],
   "source": [
    "sm = SMOTE(random_state=12)\n",
    "X_sm, Y_sm = sm.fit_resample(norm_X, label_Y)\n",
    "\n",
    "# Bar Chart to visualize the labels in the output variable in the SMOTE Balanced Dataset\n",
    "Y_balanced = lab_enc.inverse_transform(Y_sm)\n",
    "Y_balanced = pd.Index(Y_balanced, name='Class')\n",
    "var = Y_balanced\n",
    "varValue = var.value_counts()\n"
   ]
  },
  {
   "cell_type": "code",
   "execution_count": 15,
   "metadata": {
    "id": "GIgsxRgS46e_"
   },
   "outputs": [],
   "source": [
    "from sklearn.decomposition import PCA\n",
    "\n",
    "from sklearn.pipeline import Pipeline\n",
    "from sklearn.preprocessing import StandardScaler\n",
    "from sklearn.impute import SimpleImputer\n",
    "\n",
    "num_pipeline_deep = Pipeline([\n",
    "                    ('imputer', SimpleImputer(strategy='median')),\n",
    "                    ('scaler', StandardScaler()),\n",
    "                    ('pca', PCA(n_components=0.999))\n",
    "                        ])"
   ]
  },
  {
   "cell_type": "code",
   "execution_count": null,
   "metadata": {
    "id": "ggtj8hM25ZTb"
   },
   "outputs": [],
   "source": []
  },
  {
   "cell_type": "code",
   "execution_count": 25,
   "metadata": {
    "colab": {
     "base_uri": "https://localhost:8080/",
     "height": 831
    },
    "id": "NE2TiV2d5HXu",
    "outputId": "69d06c9b-e4ac-4213-f651-b7f8b983bb17"
   },
   "outputs": [
    {
     "name": "stdout",
     "output_type": "stream",
     "text": [
      "Accuracy: 0.938, f1 measure: 0.937, precision: 0.938, recall: 0.937\n"
     ]
    },
    {
     "data": {
      "image/png": "[encoded data removed]",
      "text/plain": [
       "<Figure size 1500x800 with 2 Axes>"
      ]
     },
     "metadata": {},
     "output_type": "display_data"
    }
   ],
   "source": [
    "# PCA Dimensionality Reduction to 8 PCs\n",
    "pca_rfsm = num_pipeline_deep.fit_transform(X_sm)\n",
    "# pca_test = num_pipeline_deep.transform(norm_X_test)\n",
    "training_model_metrics(rf_model, pca_rfsm, Y_sm)"
   ]
  },
  {
   "cell_type": "markdown",
   "metadata": {
    "id": "S7EpLt35Op6S"
   },
   "source": [
    "**So, balancing the classes helped slightly improve the accuracy**"
   ]
  },
  {
   "cell_type": "markdown",
   "metadata": {
    "id": "WZ1kQJj_WgdL"
   },
   "source": [
    "# Deep Learning model"
   ]
  },
  {
   "cell_type": "markdown",
   "metadata": {
    "id": "VaWf9XaMPSSt"
   },
   "source": [
    "**We'll train a neural network with**\n",
    "- **6 sequential layers, tanh activation**\n",
    "- **20% dropout between layers**\n",
    "- **softmax as the final layer**\n",
    "\n",
    "\n"
   ]
  },
  {
   "cell_type": "code",
   "execution_count": 26,
   "metadata": {
    "id": "n1jx1YbJcx77"
   },
   "outputs": [],
   "source": [
    "from tensorflow.keras.layers import Dense\n",
    "from tensorflow.keras.models import Sequential\n",
    "from tensorflow.keras import optimizers\n",
    "from tensorflow.keras.utils import to_categorical\n",
    "from tensorflow.keras.callbacks import EarlyStopping\n",
    "from tensorflow.keras import regularizers\n",
    "from tensorflow.keras.layers import Dropout"
   ]
  },
  {
   "cell_type": "code",
   "execution_count": 27,
   "metadata": {
    "id": "hzWXTShq3BF2"
   },
   "outputs": [],
   "source": [
    "model = Sequential()\n",
    "model.add(Dense(512, activation='tanh', input_shape=(8,)))\n",
    "model.add(Dropout(0.2))\n",
    "model.add(Dense(256, activation='tanh'))\n",
    "model.add(Dropout(0.2))\n",
    "model.add(Dense(128, activation='tanh'))\n",
    "model.add(Dropout(0.2))\n",
    "model.add(Dense(64, activation='tanh'))\n",
    "model.add(Dropout(0.2))\n",
    "model.add(Dense(32, activation='tanh'))\n",
    "model.add(Dropout(0.2))\n",
    "model.add(Dense(7, activation='softmax'))"
   ]
  },
  {
   "cell_type": "code",
   "execution_count": 28,
   "metadata": {
    "id": "dS8J5jI56F91"
   },
   "outputs": [],
   "source": [
    "X_train, X_val, y_train, y_val = train_test_split(pca_rfsm, Y_sm, test_size=0.2, random_state=21)\n"
   ]
  },
  {
   "cell_type": "code",
   "execution_count": 29,
   "metadata": {
    "colab": {
     "base_uri": "https://localhost:8080/"
    },
    "id": "fTmk49Zt3BnK",
    "outputId": "cafe0b16-b464-4122-d299-6e0bc8362cc3"
   },
   "outputs": [
    {
     "name": "stdout",
     "output_type": "stream",
     "text": [
      "Epoch 1/100\n",
      "529/529 [==============================] - 10s 17ms/step - loss: 0.5853 - accuracy: 0.8438 - val_loss: 0.2690 - val_accuracy: 0.9225\n",
      "Epoch 2/100\n",
      "529/529 [==============================] - 8s 15ms/step - loss: 0.3092 - accuracy: 0.9117 - val_loss: 0.2216 - val_accuracy: 0.9258\n",
      "Epoch 3/100\n",
      "529/529 [==============================] - 5s 9ms/step - loss: 0.2717 - accuracy: 0.9148 - val_loss: 0.2088 - val_accuracy: 0.9281\n",
      "Epoch 4/100\n",
      "529/529 [==============================] - 4s 8ms/step - loss: 0.2553 - accuracy: 0.9202 - val_loss: 0.2086 - val_accuracy: 0.9284\n",
      "Epoch 5/100\n",
      "529/529 [==============================] - 4s 8ms/step - loss: 0.2483 - accuracy: 0.9216 - val_loss: 0.2052 - val_accuracy: 0.9314\n",
      "Epoch 6/100\n",
      "529/529 [==============================] - 5s 10ms/step - loss: 0.2435 - accuracy: 0.9237 - val_loss: 0.1958 - val_accuracy: 0.9326\n",
      "Epoch 7/100\n",
      "529/529 [==============================] - 4s 7ms/step - loss: 0.2368 - accuracy: 0.9225 - val_loss: 0.1942 - val_accuracy: 0.9329\n",
      "Epoch 8/100\n",
      "529/529 [==============================] - 5s 10ms/step - loss: 0.2306 - accuracy: 0.9259 - val_loss: 0.1939 - val_accuracy: 0.9340\n",
      "Epoch 9/100\n",
      "529/529 [==============================] - 5s 9ms/step - loss: 0.2297 - accuracy: 0.9249 - val_loss: 0.1962 - val_accuracy: 0.9305\n",
      "Epoch 10/100\n",
      "529/529 [==============================] - 4s 8ms/step - loss: 0.2257 - accuracy: 0.9252 - val_loss: 0.1911 - val_accuracy: 0.9331\n",
      "Epoch 11/100\n",
      "529/529 [==============================] - 4s 8ms/step - loss: 0.2261 - accuracy: 0.9260 - val_loss: 0.1884 - val_accuracy: 0.9369\n",
      "Epoch 12/100\n",
      "529/529 [==============================] - 5s 10ms/step - loss: 0.2260 - accuracy: 0.9244 - val_loss: 0.1932 - val_accuracy: 0.9340\n",
      "Epoch 13/100\n",
      "529/529 [==============================] - 4s 8ms/step - loss: 0.2236 - accuracy: 0.9270 - val_loss: 0.1864 - val_accuracy: 0.9362\n",
      "Epoch 14/100\n",
      "529/529 [==============================] - 4s 7ms/step - loss: 0.2209 - accuracy: 0.9275 - val_loss: 0.1877 - val_accuracy: 0.9364\n",
      "Epoch 15/100\n",
      "529/529 [==============================] - 7s 12ms/step - loss: 0.2196 - accuracy: 0.9275 - val_loss: 0.1837 - val_accuracy: 0.9359\n",
      "Epoch 16/100\n",
      "529/529 [==============================] - 4s 7ms/step - loss: 0.2210 - accuracy: 0.9278 - val_loss: 0.1870 - val_accuracy: 0.9343\n",
      "Epoch 17/100\n",
      "529/529 [==============================] - 4s 8ms/step - loss: 0.2189 - accuracy: 0.9274 - val_loss: 0.1863 - val_accuracy: 0.9362\n",
      "Epoch 18/100\n",
      "529/529 [==============================] - 5s 10ms/step - loss: 0.2225 - accuracy: 0.9258 - val_loss: 0.1807 - val_accuracy: 0.9371\n",
      "Epoch 19/100\n",
      "529/529 [==============================] - 4s 8ms/step - loss: 0.2154 - accuracy: 0.9287 - val_loss: 0.1919 - val_accuracy: 0.9350\n",
      "Epoch 20/100\n",
      "529/529 [==============================] - 4s 7ms/step - loss: 0.2179 - accuracy: 0.9278 - val_loss: 0.1925 - val_accuracy: 0.9348\n",
      "Epoch 21/100\n",
      "529/529 [==============================] - 5s 10ms/step - loss: 0.2133 - accuracy: 0.9285 - val_loss: 0.1823 - val_accuracy: 0.9390\n",
      "Epoch 22/100\n",
      "529/529 [==============================] - 4s 7ms/step - loss: 0.2124 - accuracy: 0.9294 - val_loss: 0.1860 - val_accuracy: 0.9385\n",
      "Epoch 23/100\n",
      "529/529 [==============================] - 4s 7ms/step - loss: 0.2125 - accuracy: 0.9297 - val_loss: 0.1833 - val_accuracy: 0.9333\n",
      "Epoch 24/100\n",
      "529/529 [==============================] - 5s 10ms/step - loss: 0.2167 - accuracy: 0.9275 - val_loss: 0.1783 - val_accuracy: 0.9376\n",
      "Epoch 25/100\n",
      "529/529 [==============================] - 5s 9ms/step - loss: 0.2108 - accuracy: 0.9289 - val_loss: 0.1798 - val_accuracy: 0.9374\n",
      "Epoch 26/100\n",
      "529/529 [==============================] - 4s 8ms/step - loss: 0.2107 - accuracy: 0.9293 - val_loss: 0.1793 - val_accuracy: 0.9378\n",
      "Epoch 27/100\n",
      "529/529 [==============================] - 5s 10ms/step - loss: 0.2068 - accuracy: 0.9306 - val_loss: 0.1821 - val_accuracy: 0.9376\n",
      "Epoch 28/100\n",
      "529/529 [==============================] - 4s 7ms/step - loss: 0.2112 - accuracy: 0.9296 - val_loss: 0.1750 - val_accuracy: 0.9400\n",
      "Epoch 29/100\n",
      "529/529 [==============================] - 5s 10ms/step - loss: 0.2065 - accuracy: 0.9313 - val_loss: 0.1776 - val_accuracy: 0.9400\n",
      "Epoch 30/100\n",
      "529/529 [==============================] - 5s 10ms/step - loss: 0.2090 - accuracy: 0.9300 - val_loss: 0.1760 - val_accuracy: 0.9392\n",
      "Epoch 31/100\n",
      "529/529 [==============================] - 4s 8ms/step - loss: 0.2063 - accuracy: 0.9297 - val_loss: 0.1788 - val_accuracy: 0.9388\n",
      "Epoch 32/100\n",
      "529/529 [==============================] - 4s 7ms/step - loss: 0.2090 - accuracy: 0.9295 - val_loss: 0.1748 - val_accuracy: 0.9411\n",
      "Epoch 33/100\n",
      "529/529 [==============================] - 5s 10ms/step - loss: 0.2063 - accuracy: 0.9320 - val_loss: 0.1769 - val_accuracy: 0.9388\n",
      "Epoch 34/100\n",
      "529/529 [==============================] - 4s 7ms/step - loss: 0.2033 - accuracy: 0.9324 - val_loss: 0.1787 - val_accuracy: 0.9371\n",
      "Epoch 35/100\n",
      "529/529 [==============================] - 5s 9ms/step - loss: 0.2055 - accuracy: 0.9313 - val_loss: 0.1766 - val_accuracy: 0.9385\n",
      "Epoch 36/100\n",
      "529/529 [==============================] - 6s 11ms/step - loss: 0.2050 - accuracy: 0.9326 - val_loss: 0.1734 - val_accuracy: 0.9418\n",
      "Epoch 37/100\n",
      "529/529 [==============================] - 4s 7ms/step - loss: 0.2042 - accuracy: 0.9316 - val_loss: 0.1731 - val_accuracy: 0.9376\n",
      "Epoch 38/100\n",
      "529/529 [==============================] - 4s 8ms/step - loss: 0.2051 - accuracy: 0.9326 - val_loss: 0.1752 - val_accuracy: 0.9395\n",
      "Epoch 39/100\n",
      "529/529 [==============================] - 5s 10ms/step - loss: 0.2069 - accuracy: 0.9313 - val_loss: 0.1742 - val_accuracy: 0.9395\n",
      "Epoch 40/100\n",
      "529/529 [==============================] - 4s 8ms/step - loss: 0.1965 - accuracy: 0.9342 - val_loss: 0.1721 - val_accuracy: 0.9416\n",
      "Epoch 41/100\n",
      "529/529 [==============================] - 4s 7ms/step - loss: 0.2007 - accuracy: 0.9330 - val_loss: 0.1709 - val_accuracy: 0.9385\n",
      "Epoch 42/100\n",
      "529/529 [==============================] - 5s 10ms/step - loss: 0.2008 - accuracy: 0.9324 - val_loss: 0.1714 - val_accuracy: 0.9428\n",
      "Epoch 43/100\n",
      "529/529 [==============================] - 5s 10ms/step - loss: 0.1991 - accuracy: 0.9332 - val_loss: 0.1714 - val_accuracy: 0.9407\n",
      "Epoch 44/100\n",
      "529/529 [==============================] - 4s 8ms/step - loss: 0.2018 - accuracy: 0.9330 - val_loss: 0.1681 - val_accuracy: 0.9414\n",
      "Epoch 45/100\n",
      "529/529 [==============================] - 5s 10ms/step - loss: 0.1994 - accuracy: 0.9322 - val_loss: 0.1697 - val_accuracy: 0.9418\n",
      "Epoch 46/100\n",
      "529/529 [==============================] - 4s 8ms/step - loss: 0.1975 - accuracy: 0.9335 - val_loss: 0.1690 - val_accuracy: 0.9421\n",
      "Epoch 47/100\n",
      "529/529 [==============================] - 4s 8ms/step - loss: 0.1988 - accuracy: 0.9343 - val_loss: 0.1712 - val_accuracy: 0.9402\n",
      "Epoch 48/100\n",
      "529/529 [==============================] - 5s 10ms/step - loss: 0.1976 - accuracy: 0.9336 - val_loss: 0.1714 - val_accuracy: 0.9409\n",
      "Epoch 49/100\n",
      "529/529 [==============================] - 4s 7ms/step - loss: 0.1950 - accuracy: 0.9351 - val_loss: 0.1704 - val_accuracy: 0.9395\n",
      "Epoch 50/100\n",
      "529/529 [==============================] - 4s 7ms/step - loss: 0.1972 - accuracy: 0.9324 - val_loss: 0.1686 - val_accuracy: 0.9411\n",
      "Epoch 51/100\n",
      "529/529 [==============================] - 6s 12ms/step - loss: 0.1978 - accuracy: 0.9339 - val_loss: 0.1695 - val_accuracy: 0.9421\n",
      "Epoch 52/100\n",
      "529/529 [==============================] - 4s 8ms/step - loss: 0.1986 - accuracy: 0.9356 - val_loss: 0.1667 - val_accuracy: 0.9421\n",
      "Epoch 53/100\n",
      "529/529 [==============================] - 4s 8ms/step - loss: 0.1966 - accuracy: 0.9335 - val_loss: 0.1699 - val_accuracy: 0.9411\n",
      "Epoch 54/100\n",
      "529/529 [==============================] - 5s 10ms/step - loss: 0.1960 - accuracy: 0.9345 - val_loss: 0.1678 - val_accuracy: 0.9433\n",
      "Epoch 55/100\n",
      "529/529 [==============================] - 4s 7ms/step - loss: 0.1983 - accuracy: 0.9332 - val_loss: 0.1683 - val_accuracy: 0.9418\n",
      "Epoch 56/100\n",
      "529/529 [==============================] - 4s 7ms/step - loss: 0.1959 - accuracy: 0.9341 - val_loss: 0.1690 - val_accuracy: 0.9411\n",
      "Epoch 57/100\n",
      "529/529 [==============================] - 5s 10ms/step - loss: 0.1936 - accuracy: 0.9345 - val_loss: 0.1664 - val_accuracy: 0.9407\n",
      "Epoch 58/100\n",
      "529/529 [==============================] - 4s 8ms/step - loss: 0.1969 - accuracy: 0.9344 - val_loss: 0.1683 - val_accuracy: 0.9409\n",
      "Epoch 59/100\n",
      "529/529 [==============================] - 4s 7ms/step - loss: 0.1953 - accuracy: 0.9336 - val_loss: 0.1683 - val_accuracy: 0.9390\n",
      "Epoch 60/100\n",
      "529/529 [==============================] - 6s 12ms/step - loss: 0.1955 - accuracy: 0.9343 - val_loss: 0.1673 - val_accuracy: 0.9416\n",
      "Epoch 61/100\n",
      "529/529 [==============================] - 5s 10ms/step - loss: 0.1904 - accuracy: 0.9369 - val_loss: 0.1677 - val_accuracy: 0.9423\n",
      "Epoch 62/100\n",
      "529/529 [==============================] - 8s 16ms/step - loss: 0.1922 - accuracy: 0.9355 - val_loss: 0.1635 - val_accuracy: 0.9418\n",
      "Epoch 63/100\n",
      "529/529 [==============================] - 8s 16ms/step - loss: 0.1946 - accuracy: 0.9355 - val_loss: 0.1662 - val_accuracy: 0.9400\n",
      "Epoch 64/100\n",
      "529/529 [==============================] - 7s 12ms/step - loss: 0.1900 - accuracy: 0.9355 - val_loss: 0.1640 - val_accuracy: 0.9407\n",
      "Epoch 65/100\n",
      "529/529 [==============================] - 4s 8ms/step - loss: 0.1889 - accuracy: 0.9362 - val_loss: 0.1656 - val_accuracy: 0.9414\n",
      "Epoch 66/100\n",
      "529/529 [==============================] - 5s 10ms/step - loss: 0.1971 - accuracy: 0.9353 - val_loss: 0.1715 - val_accuracy: 0.9395\n",
      "Epoch 67/100\n",
      "529/529 [==============================] - 5s 10ms/step - loss: 0.1933 - accuracy: 0.9333 - val_loss: 0.1649 - val_accuracy: 0.9407\n",
      "Epoch 68/100\n",
      "529/529 [==============================] - 7s 13ms/step - loss: 0.1919 - accuracy: 0.9353 - val_loss: 0.1668 - val_accuracy: 0.9416\n",
      "Epoch 69/100\n",
      "529/529 [==============================] - 8s 15ms/step - loss: 0.1900 - accuracy: 0.9377 - val_loss: 0.1649 - val_accuracy: 0.9428\n",
      "Epoch 70/100\n",
      "529/529 [==============================] - 5s 9ms/step - loss: 0.1905 - accuracy: 0.9365 - val_loss: 0.1632 - val_accuracy: 0.9409\n",
      "Epoch 71/100\n",
      "529/529 [==============================] - 7s 13ms/step - loss: 0.1894 - accuracy: 0.9362 - val_loss: 0.1614 - val_accuracy: 0.9418\n",
      "Epoch 72/100\n",
      "529/529 [==============================] - 4s 8ms/step - loss: 0.1932 - accuracy: 0.9355 - val_loss: 0.1688 - val_accuracy: 0.9385\n",
      "Epoch 73/100\n",
      "529/529 [==============================] - 6s 12ms/step - loss: 0.1907 - accuracy: 0.9359 - val_loss: 0.1632 - val_accuracy: 0.9416\n",
      "Epoch 74/100\n",
      "529/529 [==============================] - 5s 9ms/step - loss: 0.1867 - accuracy: 0.9366 - val_loss: 0.1633 - val_accuracy: 0.9407\n",
      "Epoch 75/100\n",
      "529/529 [==============================] - 5s 9ms/step - loss: 0.1877 - accuracy: 0.9367 - val_loss: 0.1623 - val_accuracy: 0.9430\n",
      "Epoch 76/100\n",
      "529/529 [==============================] - 5s 10ms/step - loss: 0.1923 - accuracy: 0.9347 - val_loss: 0.1623 - val_accuracy: 0.9423\n",
      "Epoch 77/100\n",
      "529/529 [==============================] - 4s 7ms/step - loss: 0.1873 - accuracy: 0.9369 - val_loss: 0.1652 - val_accuracy: 0.9411\n",
      "Epoch 78/100\n",
      "529/529 [==============================] - 4s 7ms/step - loss: 0.1888 - accuracy: 0.9369 - val_loss: 0.1636 - val_accuracy: 0.9430\n",
      "Epoch 79/100\n",
      "529/529 [==============================] - 6s 11ms/step - loss: 0.1857 - accuracy: 0.9363 - val_loss: 0.1620 - val_accuracy: 0.9414\n",
      "Epoch 80/100\n",
      "529/529 [==============================] - 5s 9ms/step - loss: 0.1863 - accuracy: 0.9353 - val_loss: 0.1625 - val_accuracy: 0.9418\n",
      "Epoch 81/100\n",
      "529/529 [==============================] - 8s 15ms/step - loss: 0.1849 - accuracy: 0.9371 - val_loss: 0.1604 - val_accuracy: 0.9416\n",
      "Epoch 82/100\n",
      "529/529 [==============================] - 5s 9ms/step - loss: 0.1845 - accuracy: 0.9363 - val_loss: 0.1630 - val_accuracy: 0.9435\n",
      "Epoch 83/100\n",
      "529/529 [==============================] - 7s 14ms/step - loss: 0.1861 - accuracy: 0.9380 - val_loss: 0.1624 - val_accuracy: 0.9407\n",
      "Epoch 84/100\n",
      "529/529 [==============================] - 5s 9ms/step - loss: 0.1860 - accuracy: 0.9361 - val_loss: 0.1612 - val_accuracy: 0.9416\n",
      "Epoch 85/100\n",
      "529/529 [==============================] - 4s 8ms/step - loss: 0.1820 - accuracy: 0.9384 - val_loss: 0.1599 - val_accuracy: 0.9418\n",
      "Epoch 86/100\n",
      "529/529 [==============================] - 5s 10ms/step - loss: 0.1852 - accuracy: 0.9374 - val_loss: 0.1621 - val_accuracy: 0.9397\n",
      "Epoch 87/100\n",
      "529/529 [==============================] - 5s 10ms/step - loss: 0.1836 - accuracy: 0.9388 - val_loss: 0.1605 - val_accuracy: 0.9416\n",
      "Epoch 88/100\n",
      "529/529 [==============================] - 6s 12ms/step - loss: 0.1861 - accuracy: 0.9365 - val_loss: 0.1578 - val_accuracy: 0.9428\n",
      "Epoch 89/100\n",
      "529/529 [==============================] - 7s 12ms/step - loss: 0.1824 - accuracy: 0.9393 - val_loss: 0.1580 - val_accuracy: 0.9435\n",
      "Epoch 90/100\n",
      "529/529 [==============================] - 4s 8ms/step - loss: 0.1817 - accuracy: 0.9390 - val_loss: 0.1597 - val_accuracy: 0.9418\n",
      "Epoch 91/100\n",
      "529/529 [==============================] - 5s 10ms/step - loss: 0.1822 - accuracy: 0.9363 - val_loss: 0.1595 - val_accuracy: 0.9430\n",
      "Epoch 92/100\n",
      "529/529 [==============================] - 4s 8ms/step - loss: 0.1840 - accuracy: 0.9379 - val_loss: 0.1588 - val_accuracy: 0.9428\n",
      "Epoch 93/100\n",
      "529/529 [==============================] - 4s 8ms/step - loss: 0.1813 - accuracy: 0.9369 - val_loss: 0.1594 - val_accuracy: 0.9421\n",
      "Epoch 94/100\n",
      "529/529 [==============================] - 5s 10ms/step - loss: 0.1834 - accuracy: 0.9374 - val_loss: 0.1589 - val_accuracy: 0.9423\n",
      "Epoch 95/100\n",
      "529/529 [==============================] - 4s 7ms/step - loss: 0.1837 - accuracy: 0.9364 - val_loss: 0.1571 - val_accuracy: 0.9444\n",
      "Epoch 96/100\n",
      "529/529 [==============================] - 4s 8ms/step - loss: 0.1802 - accuracy: 0.9385 - val_loss: 0.1559 - val_accuracy: 0.9435\n",
      "Epoch 97/100\n",
      "529/529 [==============================] - 5s 10ms/step - loss: 0.1802 - accuracy: 0.9378 - val_loss: 0.1600 - val_accuracy: 0.9426\n",
      "Epoch 98/100\n",
      "529/529 [==============================] - 4s 8ms/step - loss: 0.1770 - accuracy: 0.9398 - val_loss: 0.1599 - val_accuracy: 0.9430\n",
      "Epoch 99/100\n",
      "529/529 [==============================] - 4s 8ms/step - loss: 0.1786 - accuracy: 0.9400 - val_loss: 0.1564 - val_accuracy: 0.9430\n",
      "Epoch 100/100\n",
      "529/529 [==============================] - 5s 10ms/step - loss: 0.1788 - accuracy: 0.9376 - val_loss: 0.1557 - val_accuracy: 0.9449\n"
     ]
    }
   ],
   "source": [
    "model.compile(optimizer=optimizers.RMSprop(learning_rate=1e-4), \n",
    "              loss='sparse_categorical_crossentropy', \n",
    "              metrics=['accuracy'])\n",
    "\n",
    "early_stopp = EarlyStopping(patience=6, restore_best_weights=True, monitor='val_loss')\n",
    "\n",
    "history = model.fit(X_train, y_train, epochs=100, \n",
    "                    validation_data=(X_val, y_val), \n",
    "                    batch_size=32)"
   ]
  },
  {
   "cell_type": "markdown",
   "metadata": {
    "id": "-JK1MBJAV5nc"
   },
   "source": [
    "**Evaluate the performance the test set**"
   ]
  },
  {
   "cell_type": "code",
   "execution_count": 33,
   "metadata": {
    "colab": {
     "base_uri": "https://localhost:8080/"
    },
    "id": "kDoHnLCW6Ble",
    "outputId": "c93473d2-9239-4097-d4a6-a10beac0050a"
   },
   "outputs": [
    {
     "name": "stdout",
     "output_type": "stream",
     "text": [
      "133/133 [==============================] - 1s 8ms/step - loss: 0.1615 - accuracy: 0.9428\n"
     ]
    },
    {
     "data": {
      "text/plain": [
       "[0.16154760122299194, 0.942789614200592]"
      ]
     },
     "execution_count": 33,
     "metadata": {},
     "output_type": "execute_result"
    }
   ],
   "source": [
    "model.evaluate(X_val, y_val)"
   ]
  },
  {
   "cell_type": "markdown",
   "metadata": {
    "id": "_KeSEOTlWCYE"
   },
   "source": [
    "**Now, train the same network on the selected features and get the accuracy**"
   ]
  },
  {
   "cell_type": "code",
   "execution_count": 30,
   "metadata": {
    "id": "-MJg0GKY70lc"
   },
   "outputs": [],
   "source": [
    "selected = ['Perimeter',\n",
    " 'MajorAxisLength',\n",
    " 'MinorAxisLength',\n",
    " 'Eccentricity',\n",
    " 'EquivDiameter',\n",
    " 'Extent',\n",
    " 'roundness',\n",
    " 'ShapeFactor1',\n",
    " 'ShapeFactor2',\n",
    " 'ShapeFactor4']"
   ]
  },
  {
   "cell_type": "code",
   "execution_count": 32,
   "metadata": {
    "id": "LzSLFU1ZK7yR"
   },
   "outputs": [],
   "source": [
    "X = df[selected]"
   ]
  },
  {
   "cell_type": "code",
   "execution_count": 33,
   "metadata": {
    "colab": {
     "base_uri": "https://localhost:8080/"
    },
    "id": "dj38ro2dLAie",
    "outputId": "d66d7b2b-5a1b-4f45-d8b7-55221fa64d24"
   },
   "outputs": [
    {
     "data": {
      "text/plain": [
       "(12159, 10)"
      ]
     },
     "execution_count": 33,
     "metadata": {},
     "output_type": "execute_result"
    }
   ],
   "source": [
    "X.shape"
   ]
  },
  {
   "cell_type": "code",
   "execution_count": 34,
   "metadata": {
    "id": "iHqTkLUPLCc9"
   },
   "outputs": [],
   "source": [
    "norm_X = normalizer.fit_transform(X)\n"
   ]
  },
  {
   "cell_type": "code",
   "execution_count": 35,
   "metadata": {
    "id": "8cjuLWQ_NNJu"
   },
   "outputs": [],
   "source": [
    "pca_rfsm = num_pipeline_deep.fit_transform(X_sm)\n",
    "# pca_test = num_pipeline_deep.transform(norm_X_test)\n",
    "# training_model_metrics(rf_model, pca_rfsm, Y_sm)"
   ]
  },
  {
   "cell_type": "code",
   "execution_count": 36,
   "metadata": {
    "id": "AqTGChR0NcIZ"
   },
   "outputs": [],
   "source": [
    "X_train, X_val, y_train, y_val = train_test_split(pca_rfsm, Y_sm, test_size=0.2, random_state=21)\n"
   ]
  },
  {
   "cell_type": "code",
   "execution_count": 39,
   "metadata": {
    "id": "BOY9uK9kOBoK"
   },
   "outputs": [],
   "source": [
    "model = Sequential()\n",
    "model.add(Dense(512, activation='tanh', input_shape=(8,)))\n",
    "model.add(Dropout(0.2))\n",
    "model.add(Dense(256, activation='tanh'))\n",
    "model.add(Dropout(0.2))\n",
    "model.add(Dense(128, activation='tanh'))\n",
    "model.add(Dropout(0.2))\n",
    "model.add(Dense(64, activation='tanh'))\n",
    "model.add(Dropout(0.2))\n",
    "model.add(Dense(32, activation='tanh'))\n",
    "model.add(Dropout(0.2))\n",
    "model.add(Dense(7, activation='softmax'))"
   ]
  },
  {
   "cell_type": "code",
   "execution_count": 40,
   "metadata": {
    "colab": {
     "base_uri": "https://localhost:8080/"
    },
    "id": "ZMMl-HNkN1Fh",
    "outputId": "8bd13dd3-2119-41c0-ad51-68fe897cddf6"
   },
   "outputs": [
    {
     "name": "stdout",
     "output_type": "stream",
     "text": [
      "Epoch 1/100\n",
      "529/529 [==============================] - 7s 10ms/step - loss: 0.5955 - accuracy: 0.8329 - val_loss: 0.2713 - val_accuracy: 0.9225\n",
      "Epoch 2/100\n",
      "529/529 [==============================] - 4s 7ms/step - loss: 0.3171 - accuracy: 0.9087 - val_loss: 0.2223 - val_accuracy: 0.9258\n",
      "Epoch 3/100\n",
      "529/529 [==============================] - 5s 10ms/step - loss: 0.2732 - accuracy: 0.9143 - val_loss: 0.2046 - val_accuracy: 0.9324\n",
      "Epoch 4/100\n",
      "529/529 [==============================] - 4s 8ms/step - loss: 0.2582 - accuracy: 0.9173 - val_loss: 0.1990 - val_accuracy: 0.9293\n",
      "Epoch 5/100\n",
      "529/529 [==============================] - 4s 8ms/step - loss: 0.2465 - accuracy: 0.9212 - val_loss: 0.2053 - val_accuracy: 0.9305\n",
      "Epoch 6/100\n",
      "529/529 [==============================] - 5s 9ms/step - loss: 0.2434 - accuracy: 0.9185 - val_loss: 0.1932 - val_accuracy: 0.9350\n",
      "Epoch 7/100\n",
      "529/529 [==============================] - 4s 8ms/step - loss: 0.2369 - accuracy: 0.9232 - val_loss: 0.1983 - val_accuracy: 0.9300\n",
      "Epoch 8/100\n",
      "529/529 [==============================] - 4s 8ms/step - loss: 0.2379 - accuracy: 0.9220 - val_loss: 0.1896 - val_accuracy: 0.9352\n",
      "Epoch 9/100\n",
      "529/529 [==============================] - 5s 9ms/step - loss: 0.2321 - accuracy: 0.9237 - val_loss: 0.1903 - val_accuracy: 0.9314\n",
      "Epoch 10/100\n",
      "529/529 [==============================] - 4s 8ms/step - loss: 0.2278 - accuracy: 0.9250 - val_loss: 0.1937 - val_accuracy: 0.9331\n",
      "Epoch 11/100\n",
      "529/529 [==============================] - 5s 9ms/step - loss: 0.2316 - accuracy: 0.9259 - val_loss: 0.1925 - val_accuracy: 0.9345\n",
      "Epoch 12/100\n",
      "529/529 [==============================] - 5s 9ms/step - loss: 0.2260 - accuracy: 0.9243 - val_loss: 0.1864 - val_accuracy: 0.9364\n",
      "Epoch 13/100\n",
      "529/529 [==============================] - 4s 8ms/step - loss: 0.2285 - accuracy: 0.9245 - val_loss: 0.1855 - val_accuracy: 0.9369\n",
      "Epoch 14/100\n",
      "529/529 [==============================] - 5s 9ms/step - loss: 0.2223 - accuracy: 0.9261 - val_loss: 0.1874 - val_accuracy: 0.9371\n",
      "Epoch 15/100\n",
      "529/529 [==============================] - 6s 11ms/step - loss: 0.2235 - accuracy: 0.9249 - val_loss: 0.1823 - val_accuracy: 0.9366\n",
      "Epoch 16/100\n",
      "529/529 [==============================] - 6s 12ms/step - loss: 0.2213 - accuracy: 0.9263 - val_loss: 0.1852 - val_accuracy: 0.9366\n",
      "Epoch 17/100\n",
      "529/529 [==============================] - 7s 14ms/step - loss: 0.2186 - accuracy: 0.9279 - val_loss: 0.1893 - val_accuracy: 0.9324\n",
      "Epoch 18/100\n",
      "529/529 [==============================] - 4s 8ms/step - loss: 0.2180 - accuracy: 0.9294 - val_loss: 0.1805 - val_accuracy: 0.9371\n",
      "Epoch 19/100\n",
      "529/529 [==============================] - 5s 10ms/step - loss: 0.2188 - accuracy: 0.9296 - val_loss: 0.1866 - val_accuracy: 0.9357\n",
      "Epoch 20/100\n",
      "529/529 [==============================] - 4s 8ms/step - loss: 0.2216 - accuracy: 0.9283 - val_loss: 0.1836 - val_accuracy: 0.9355\n",
      "Epoch 21/100\n",
      "529/529 [==============================] - 4s 7ms/step - loss: 0.2172 - accuracy: 0.9290 - val_loss: 0.1819 - val_accuracy: 0.9388\n",
      "Epoch 22/100\n",
      "529/529 [==============================] - 7s 14ms/step - loss: 0.2131 - accuracy: 0.9311 - val_loss: 0.1862 - val_accuracy: 0.9348\n",
      "Epoch 23/100\n",
      "529/529 [==============================] - 4s 8ms/step - loss: 0.2125 - accuracy: 0.9291 - val_loss: 0.1855 - val_accuracy: 0.9352\n",
      "Epoch 24/100\n",
      "529/529 [==============================] - 4s 8ms/step - loss: 0.2164 - accuracy: 0.9267 - val_loss: 0.1807 - val_accuracy: 0.9376\n",
      "Epoch 25/100\n",
      "529/529 [==============================] - 5s 10ms/step - loss: 0.2085 - accuracy: 0.9313 - val_loss: 0.1791 - val_accuracy: 0.9381\n",
      "Epoch 26/100\n",
      "529/529 [==============================] - 4s 8ms/step - loss: 0.2129 - accuracy: 0.9310 - val_loss: 0.1771 - val_accuracy: 0.9374\n",
      "Epoch 27/100\n",
      "529/529 [==============================] - 4s 7ms/step - loss: 0.2094 - accuracy: 0.9310 - val_loss: 0.1820 - val_accuracy: 0.9376\n",
      "Epoch 28/100\n",
      "529/529 [==============================] - 5s 10ms/step - loss: 0.2126 - accuracy: 0.9272 - val_loss: 0.1810 - val_accuracy: 0.9397\n",
      "Epoch 29/100\n",
      "529/529 [==============================] - 6s 11ms/step - loss: 0.2102 - accuracy: 0.9293 - val_loss: 0.1784 - val_accuracy: 0.9397\n",
      "Epoch 30/100\n",
      "529/529 [==============================] - 4s 8ms/step - loss: 0.2110 - accuracy: 0.9310 - val_loss: 0.1848 - val_accuracy: 0.9374\n",
      "Epoch 31/100\n",
      "529/529 [==============================] - 5s 9ms/step - loss: 0.2069 - accuracy: 0.9308 - val_loss: 0.1838 - val_accuracy: 0.9352\n",
      "Epoch 32/100\n",
      "529/529 [==============================] - 4s 8ms/step - loss: 0.2096 - accuracy: 0.9310 - val_loss: 0.1774 - val_accuracy: 0.9390\n",
      "Epoch 33/100\n",
      "529/529 [==============================] - 5s 9ms/step - loss: 0.2075 - accuracy: 0.9320 - val_loss: 0.1791 - val_accuracy: 0.9374\n",
      "Epoch 34/100\n",
      "529/529 [==============================] - 4s 8ms/step - loss: 0.2036 - accuracy: 0.9314 - val_loss: 0.1782 - val_accuracy: 0.9378\n",
      "Epoch 35/100\n",
      "529/529 [==============================] - 4s 8ms/step - loss: 0.2046 - accuracy: 0.9322 - val_loss: 0.1814 - val_accuracy: 0.9388\n",
      "Epoch 36/100\n",
      "529/529 [==============================] - 8s 14ms/step - loss: 0.2094 - accuracy: 0.9298 - val_loss: 0.1754 - val_accuracy: 0.9400\n",
      "Epoch 37/100\n",
      "529/529 [==============================] - 4s 8ms/step - loss: 0.2021 - accuracy: 0.9309 - val_loss: 0.1759 - val_accuracy: 0.9395\n",
      "Epoch 38/100\n",
      "529/529 [==============================] - 4s 8ms/step - loss: 0.2097 - accuracy: 0.9300 - val_loss: 0.1815 - val_accuracy: 0.9350\n",
      "Epoch 39/100\n",
      "529/529 [==============================] - 5s 10ms/step - loss: 0.2037 - accuracy: 0.9313 - val_loss: 0.1762 - val_accuracy: 0.9385\n",
      "Epoch 40/100\n",
      "529/529 [==============================] - 4s 8ms/step - loss: 0.2041 - accuracy: 0.9320 - val_loss: 0.1758 - val_accuracy: 0.9383\n",
      "Epoch 41/100\n",
      "529/529 [==============================] - 4s 8ms/step - loss: 0.2016 - accuracy: 0.9314 - val_loss: 0.1767 - val_accuracy: 0.9392\n",
      "Epoch 42/100\n",
      "529/529 [==============================] - 6s 11ms/step - loss: 0.2041 - accuracy: 0.9315 - val_loss: 0.1747 - val_accuracy: 0.9400\n",
      "Epoch 43/100\n",
      "529/529 [==============================] - 5s 9ms/step - loss: 0.2023 - accuracy: 0.9330 - val_loss: 0.1738 - val_accuracy: 0.9414\n",
      "Epoch 44/100\n",
      "529/529 [==============================] - 4s 8ms/step - loss: 0.1990 - accuracy: 0.9326 - val_loss: 0.1734 - val_accuracy: 0.9411\n",
      "Epoch 45/100\n",
      "529/529 [==============================] - 5s 10ms/step - loss: 0.1989 - accuracy: 0.9330 - val_loss: 0.1750 - val_accuracy: 0.9395\n",
      "Epoch 46/100\n",
      "529/529 [==============================] - 4s 7ms/step - loss: 0.2046 - accuracy: 0.9306 - val_loss: 0.1721 - val_accuracy: 0.9383\n",
      "Epoch 47/100\n",
      "529/529 [==============================] - 4s 7ms/step - loss: 0.1996 - accuracy: 0.9339 - val_loss: 0.1744 - val_accuracy: 0.9426\n",
      "Epoch 48/100\n",
      "529/529 [==============================] - 5s 10ms/step - loss: 0.1982 - accuracy: 0.9344 - val_loss: 0.1737 - val_accuracy: 0.9426\n",
      "Epoch 49/100\n",
      "529/529 [==============================] - 4s 8ms/step - loss: 0.2027 - accuracy: 0.9319 - val_loss: 0.1698 - val_accuracy: 0.9407\n",
      "Epoch 50/100\n",
      "529/529 [==============================] - 4s 8ms/step - loss: 0.1998 - accuracy: 0.9341 - val_loss: 0.1711 - val_accuracy: 0.9400\n",
      "Epoch 51/100\n",
      "529/529 [==============================] - 5s 10ms/step - loss: 0.1951 - accuracy: 0.9336 - val_loss: 0.1747 - val_accuracy: 0.9392\n",
      "Epoch 52/100\n",
      "529/529 [==============================] - 4s 8ms/step - loss: 0.1982 - accuracy: 0.9342 - val_loss: 0.1729 - val_accuracy: 0.9402\n",
      "Epoch 53/100\n",
      "529/529 [==============================] - 4s 7ms/step - loss: 0.2003 - accuracy: 0.9347 - val_loss: 0.1721 - val_accuracy: 0.9407\n",
      "Epoch 54/100\n",
      "529/529 [==============================] - 5s 10ms/step - loss: 0.1975 - accuracy: 0.9335 - val_loss: 0.1733 - val_accuracy: 0.9395\n",
      "Epoch 55/100\n",
      "529/529 [==============================] - 4s 8ms/step - loss: 0.1970 - accuracy: 0.9346 - val_loss: 0.1691 - val_accuracy: 0.9414\n",
      "Epoch 56/100\n",
      "529/529 [==============================] - 4s 8ms/step - loss: 0.1957 - accuracy: 0.9343 - val_loss: 0.1667 - val_accuracy: 0.9421\n",
      "Epoch 57/100\n",
      "529/529 [==============================] - 5s 10ms/step - loss: 0.1937 - accuracy: 0.9342 - val_loss: 0.1697 - val_accuracy: 0.9397\n",
      "Epoch 58/100\n",
      "529/529 [==============================] - 5s 10ms/step - loss: 0.2002 - accuracy: 0.9309 - val_loss: 0.1683 - val_accuracy: 0.9411\n",
      "Epoch 59/100\n",
      "529/529 [==============================] - 4s 8ms/step - loss: 0.1956 - accuracy: 0.9342 - val_loss: 0.1666 - val_accuracy: 0.9407\n",
      "Epoch 60/100\n",
      "529/529 [==============================] - 6s 11ms/step - loss: 0.1941 - accuracy: 0.9343 - val_loss: 0.1685 - val_accuracy: 0.9400\n",
      "Epoch 61/100\n",
      "529/529 [==============================] - 4s 8ms/step - loss: 0.1908 - accuracy: 0.9350 - val_loss: 0.1718 - val_accuracy: 0.9404\n",
      "Epoch 62/100\n",
      "529/529 [==============================] - 5s 10ms/step - loss: 0.1933 - accuracy: 0.9337 - val_loss: 0.1668 - val_accuracy: 0.9411\n",
      "Epoch 63/100\n",
      "529/529 [==============================] - 5s 9ms/step - loss: 0.1950 - accuracy: 0.9335 - val_loss: 0.1707 - val_accuracy: 0.9404\n",
      "Epoch 64/100\n",
      "529/529 [==============================] - 5s 9ms/step - loss: 0.1944 - accuracy: 0.9347 - val_loss: 0.1698 - val_accuracy: 0.9428\n",
      "Epoch 65/100\n",
      "529/529 [==============================] - 6s 11ms/step - loss: 0.1920 - accuracy: 0.9360 - val_loss: 0.1676 - val_accuracy: 0.9397\n",
      "Epoch 66/100\n",
      "529/529 [==============================] - 4s 7ms/step - loss: 0.1934 - accuracy: 0.9349 - val_loss: 0.1686 - val_accuracy: 0.9402\n",
      "Epoch 67/100\n",
      "529/529 [==============================] - 4s 8ms/step - loss: 0.1924 - accuracy: 0.9351 - val_loss: 0.1663 - val_accuracy: 0.9440\n",
      "Epoch 68/100\n",
      "529/529 [==============================] - 5s 10ms/step - loss: 0.1883 - accuracy: 0.9370 - val_loss: 0.1681 - val_accuracy: 0.9444\n",
      "Epoch 69/100\n",
      "529/529 [==============================] - 4s 8ms/step - loss: 0.1913 - accuracy: 0.9353 - val_loss: 0.1680 - val_accuracy: 0.9385\n",
      "Epoch 70/100\n",
      "529/529 [==============================] - 4s 8ms/step - loss: 0.1930 - accuracy: 0.9372 - val_loss: 0.1682 - val_accuracy: 0.9414\n",
      "Epoch 71/100\n",
      "529/529 [==============================] - 5s 10ms/step - loss: 0.1891 - accuracy: 0.9356 - val_loss: 0.1691 - val_accuracy: 0.9402\n",
      "Epoch 72/100\n",
      "529/529 [==============================] - 4s 7ms/step - loss: 0.1864 - accuracy: 0.9364 - val_loss: 0.1646 - val_accuracy: 0.9411\n",
      "Epoch 73/100\n",
      "529/529 [==============================] - 5s 10ms/step - loss: 0.1915 - accuracy: 0.9342 - val_loss: 0.1646 - val_accuracy: 0.9435\n",
      "Epoch 74/100\n",
      "529/529 [==============================] - 5s 10ms/step - loss: 0.1829 - accuracy: 0.9377 - val_loss: 0.1674 - val_accuracy: 0.9411\n",
      "Epoch 75/100\n",
      "529/529 [==============================] - 4s 8ms/step - loss: 0.1864 - accuracy: 0.9359 - val_loss: 0.1665 - val_accuracy: 0.9411\n",
      "Epoch 76/100\n",
      "529/529 [==============================] - 4s 8ms/step - loss: 0.1894 - accuracy: 0.9356 - val_loss: 0.1686 - val_accuracy: 0.9411\n",
      "Epoch 77/100\n",
      "529/529 [==============================] - 5s 10ms/step - loss: 0.1858 - accuracy: 0.9369 - val_loss: 0.1658 - val_accuracy: 0.9426\n",
      "Epoch 78/100\n",
      "529/529 [==============================] - 4s 7ms/step - loss: 0.1842 - accuracy: 0.9374 - val_loss: 0.1680 - val_accuracy: 0.9416\n",
      "Epoch 79/100\n",
      "529/529 [==============================] - 4s 7ms/step - loss: 0.1874 - accuracy: 0.9373 - val_loss: 0.1683 - val_accuracy: 0.9423\n",
      "Epoch 80/100\n",
      "529/529 [==============================] - 6s 12ms/step - loss: 0.1889 - accuracy: 0.9366 - val_loss: 0.1652 - val_accuracy: 0.9423\n",
      "Epoch 81/100\n",
      "529/529 [==============================] - 4s 8ms/step - loss: 0.1864 - accuracy: 0.9365 - val_loss: 0.1642 - val_accuracy: 0.9418\n",
      "Epoch 82/100\n",
      "529/529 [==============================] - 5s 9ms/step - loss: 0.1870 - accuracy: 0.9363 - val_loss: 0.1641 - val_accuracy: 0.9430\n",
      "Epoch 83/100\n",
      "529/529 [==============================] - 4s 8ms/step - loss: 0.1863 - accuracy: 0.9372 - val_loss: 0.1638 - val_accuracy: 0.9430\n",
      "Epoch 84/100\n",
      "529/529 [==============================] - 4s 8ms/step - loss: 0.1859 - accuracy: 0.9366 - val_loss: 0.1650 - val_accuracy: 0.9416\n",
      "Epoch 85/100\n",
      "529/529 [==============================] - 5s 9ms/step - loss: 0.1821 - accuracy: 0.9378 - val_loss: 0.1660 - val_accuracy: 0.9402\n",
      "Epoch 86/100\n",
      "529/529 [==============================] - 4s 8ms/step - loss: 0.1824 - accuracy: 0.9394 - val_loss: 0.1637 - val_accuracy: 0.9418\n",
      "Epoch 87/100\n",
      "529/529 [==============================] - 4s 8ms/step - loss: 0.1829 - accuracy: 0.9372 - val_loss: 0.1637 - val_accuracy: 0.9442\n",
      "Epoch 88/100\n",
      "529/529 [==============================] - 5s 10ms/step - loss: 0.1809 - accuracy: 0.9394 - val_loss: 0.1636 - val_accuracy: 0.9421\n",
      "Epoch 89/100\n",
      "529/529 [==============================] - 4s 8ms/step - loss: 0.1836 - accuracy: 0.9375 - val_loss: 0.1610 - val_accuracy: 0.9435\n",
      "Epoch 90/100\n",
      "529/529 [==============================] - 4s 8ms/step - loss: 0.1851 - accuracy: 0.9389 - val_loss: 0.1626 - val_accuracy: 0.9423\n",
      "Epoch 91/100\n",
      "529/529 [==============================] - 5s 10ms/step - loss: 0.1777 - accuracy: 0.9400 - val_loss: 0.1620 - val_accuracy: 0.9437\n",
      "Epoch 92/100\n",
      "529/529 [==============================] - 4s 8ms/step - loss: 0.1844 - accuracy: 0.9378 - val_loss: 0.1631 - val_accuracy: 0.9426\n",
      "Epoch 93/100\n",
      "529/529 [==============================] - 7s 14ms/step - loss: 0.1840 - accuracy: 0.9366 - val_loss: 0.1626 - val_accuracy: 0.9421\n",
      "Epoch 94/100\n",
      "529/529 [==============================] - 8s 15ms/step - loss: 0.1822 - accuracy: 0.9381 - val_loss: 0.1616 - val_accuracy: 0.9433\n",
      "Epoch 95/100\n",
      "529/529 [==============================] - 7s 14ms/step - loss: 0.1806 - accuracy: 0.9395 - val_loss: 0.1646 - val_accuracy: 0.9416\n",
      "Epoch 96/100\n",
      "529/529 [==============================] - 6s 11ms/step - loss: 0.1768 - accuracy: 0.9394 - val_loss: 0.1639 - val_accuracy: 0.9428\n",
      "Epoch 97/100\n",
      "529/529 [==============================] - 4s 8ms/step - loss: 0.1813 - accuracy: 0.9379 - val_loss: 0.1628 - val_accuracy: 0.9428\n",
      "Epoch 98/100\n",
      "529/529 [==============================] - 6s 11ms/step - loss: 0.1806 - accuracy: 0.9390 - val_loss: 0.1617 - val_accuracy: 0.9433\n",
      "Epoch 99/100\n",
      "529/529 [==============================] - 5s 10ms/step - loss: 0.1795 - accuracy: 0.9384 - val_loss: 0.1636 - val_accuracy: 0.9402\n",
      "Epoch 100/100\n",
      "529/529 [==============================] - 9s 16ms/step - loss: 0.1822 - accuracy: 0.9395 - val_loss: 0.1633 - val_accuracy: 0.9426\n"
     ]
    }
   ],
   "source": [
    "model.compile(optimizer=optimizers.RMSprop(learning_rate=1e-4), \n",
    "              loss='sparse_categorical_crossentropy', \n",
    "              metrics=['accuracy'])\n",
    "\n",
    "early_stopp = EarlyStopping(patience=6, restore_best_weights=True, monitor='val_loss')\n",
    "\n",
    "history = model.fit(X_train, y_train, epochs=100, \n",
    "                    validation_data=(X_val, y_val), \n",
    "                    batch_size=32)"
   ]
  },
  {
   "cell_type": "code",
   "execution_count": 41,
   "metadata": {
    "colab": {
     "base_uri": "https://localhost:8080/"
    },
    "id": "U-t7lLorN5JY",
    "outputId": "d494b861-50f5-4ad6-adde-1771de1654e0"
   },
   "outputs": [
    {
     "name": "stdout",
     "output_type": "stream",
     "text": [
      "133/133 [==============================] - 1s 4ms/step - loss: 0.1633 - accuracy: 0.9426\n"
     ]
    },
    {
     "data": {
      "text/plain": [
       "[0.16328366100788116, 0.9425531625747681]"
      ]
     },
     "execution_count": 41,
     "metadata": {},
     "output_type": "execute_result"
    }
   ],
   "source": [
    "model.evaluate(X_val, y_val)"
   ]
  },
  {
   "cell_type": "code",
   "execution_count": 42,
   "metadata": {
    "id": "Ytdqr6iIP2oc"
   },
   "outputs": [],
   "source": [
    "train_loss = history.history['loss']\n",
    "train_acc = history.history['accuracy']\n",
    "\n",
    "val_loss = history.history['val_loss']\n",
    "val_acc = history.history['val_accuracy']\n",
    "epochs = range(1, len(train_loss)+1)"
   ]
  },
  {
   "cell_type": "code",
   "execution_count": 43,
   "metadata": {
    "colab": {
     "base_uri": "https://localhost:8080/",
     "height": 417
    },
    "id": "tnCk3UIZT6Hx",
    "outputId": "13ed5232-c101-4992-b245-0a9a73180064"
   },
   "outputs": [
    {
     "data": {
      "image/png": "[encoded data removed]",
      "text/plain": [
       "<Figure size 1800x700 with 2 Axes>"
      ]
     },
     "metadata": {},
     "output_type": "display_data"
    }
   ],
   "source": [
    "### get some results and Visualization from history\n",
    "fig, ax = plt.subplots(1, 2, figsize=(18, 7))\n",
    "fig.tight_layout(pad=4)  ## to avoid overlaping of titles in subplots (try comment it you will know)\n",
    "\n",
    "plt.sca(ax[0])\n",
    "plt.plot(epochs, train_loss, 'bo-', label='training')\n",
    "plt.plot(epochs, val_loss, 'go--', label='validating')\n",
    "plt.xlabel('epochs')\n",
    "plt.ylabel('losses')\n",
    "plt.title('Training& ValidatingLoss')\n",
    "plt.legend()\n",
    "\n",
    "plt.sca(ax[1])\n",
    "plt.plot(epochs, train_acc, 'bo-', label='training')\n",
    "plt.plot(epochs, val_acc, 'go--', label='validating')\n",
    "plt.xlabel('epochs')\n",
    "plt.ylabel('accuracy')\n",
    "plt.title('Training & Validating Accuracy')\n",
    "\n",
    "plt.legend(loc='lower right')\n",
    "plt.show()"
   ]
  },
  {
   "cell_type": "code",
   "execution_count": 44,
   "metadata": {
    "colab": {
     "base_uri": "https://localhost:8080/"
    },
    "id": "ungIlKunT--O",
    "outputId": "60a7c04c-e178-4998-a73e-27279901760b"
   },
   "outputs": [
    {
     "name": "stdout",
     "output_type": "stream",
     "text": [
      "133/133 [==============================] - 0s 2ms/step\n",
      " ====>  0.9425531914893617\n"
     ]
    }
   ],
   "source": [
    "from sklearn.metrics import f1_score\n",
    "\n",
    "nums_predictions = np.argmax(model.predict(X_val), axis=-1)\n",
    "print(\" ====> \",f1_score(nums_predictions, y_val,average=\"micro\"))"
   ]
  },
  {
   "cell_type": "markdown",
   "metadata": {
    "id": "bbc_WfM4adMz"
   },
   "source": [
    "**The f1-score after feature selection is obtained as 0.94.**"
   ]
  }
 ],
 "metadata": {
  "colab": {
   "provenance": []
  },
  "kernelspec": {
   "display_name": "Python 3 (ipykernel)",
   "language": "python",
   "name": "python3"
  },
  "language_info": {
   "codemirror_mode": {
    "name": "ipython",
    "version": 3
   },
   "file_extension": ".py",
   "mimetype": "text/x-python",
   "name": "python",
   "nbconvert_exporter": "python",
   "pygments_lexer": "ipython3",
   "version": "3.9.7"
  }
 },
 "nbformat": 4,
 "nbformat_minor": 1
}
