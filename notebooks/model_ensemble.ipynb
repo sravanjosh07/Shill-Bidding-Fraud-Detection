{
 "cells": [
  {
   "cell_type": "code",
   "execution_count": 1,
   "id": "5102145b",
   "metadata": {},
   "outputs": [],
   "source": [
    "import numpy as np\n",
    "import pandas as pd\n",
    "import warnings\n",
    "from sklearn.ensemble import RandomForestClassifier, VotingClassifier\n",
    "from sklearn.svm import SVC\n",
    "from sklearn.linear_model import LogisticRegression\n",
    "from sklearn.neighbors import KNeighborsClassifier\n",
    "from sklearn.neural_network import MLPClassifier\n",
    "from sklearn.preprocessing import StandardScaler\n",
    "from sklearn.pipeline import make_pipeline\n",
    "from hpelm import ELM\n",
    "from mlxtend.classifier import StackingClassifier\n",
    "from mlxtend.feature_selection import ColumnSelector\n",
    "from sklearn.model_selection import train_test_split\n",
    "from sklearn.metrics import classification_report, confusion_matrix, auc, accuracy_score\n",
    "warnings.filterwarnings(\"ignore\")"
   ]
  },
  {
   "cell_type": "code",
   "execution_count": 2,
   "id": "586b7e42",
   "metadata": {},
   "outputs": [],
   "source": [
    "data = pd.read_csv(\"Group_14_data_cleaned.csv\", index_col=0)\n",
    "# Split the data into training and testing sets\n",
    "X = data.drop(['Class', 'Bidder_ID'], axis=1)\n",
    "y = data['Class']"
   ]
  },
  {
   "cell_type": "code",
   "execution_count": 14,
   "id": "97356a4b",
   "metadata": {},
   "outputs": [
    {
     "name": "stdout",
     "output_type": "stream",
     "text": [
      "Accuracy: 0.9960474308300395\n"
     ]
    }
   ],
   "source": [
    "# Split the data into training and testing sets\n",
    "X_train, X_test, y_train, y_test = train_test_split(X, y, test_size=0.2, random_state=42)\n",
    "\n",
    "# Define the base models\n",
    "rf = RandomForestClassifier(random_state=42)\n",
    "svm = make_pipeline(StandardScaler(), SVC(kernel='rbf', C=10, gamma=1, random_state=42))\n",
    "lr = LogisticRegression(random_state=42)\n",
    "knn = make_pipeline(StandardScaler(), KNeighborsClassifier(n_neighbors=7))\n",
    "mlp = MLPClassifier(hidden_layer_sizes=(64,64), random_state=42)\n",
    "\n",
    "# Define the meta-model\n",
    "# meta_model = RandomForestClassifier(n_estimators=100, random_state=42)\n",
    "\n",
    "# Define the meta-model\n",
    "meta_model = LogisticRegression(C=0.1, penalty='l1', solver='liblinear', random_state=42)\n",
    "\n",
    "# Define the stacking model\n",
    "stacking = StackingClassifier(classifiers=[rf, svm, lr, knn, mlp],\n",
    "                              meta_classifier=meta_model)\n",
    "\n",
    "# Fit the stacking model\n",
    "stacking.fit(X_train, y_train)\n",
    "\n",
    "# Evaluate the stacking model\n",
    "score = stacking.score(X_test, y_test)\n",
    "print(\"Accuracy:\", score)\n"
   ]
  },
  {
   "cell_type": "code",
   "execution_count": 15,
   "id": "b66581ba",
   "metadata": {},
   "outputs": [
    {
     "name": "stdout",
     "output_type": "stream",
     "text": [
      "[[1131    2]\n",
      " [   3  129]]\n",
      "              precision    recall  f1-score   support\n",
      "\n",
      "           0       1.00      1.00      1.00      1133\n",
      "           1       0.98      0.98      0.98       132\n",
      "\n",
      "    accuracy                           1.00      1265\n",
      "   macro avg       0.99      0.99      0.99      1265\n",
      "weighted avg       1.00      1.00      1.00      1265\n",
      "\n"
     ]
    }
   ],
   "source": [
    "# Use the trained classifier to predict the class labels for the test data\n",
    "y_pred = stacking.predict(X_test)\n",
    "\n",
    "# Evaluate the classifier's performance on the test data\n",
    "print(confusion_matrix(y_test, y_pred))\n",
    "print(classification_report(y_test, y_pred))\n"
   ]
  },
  {
   "cell_type": "code",
   "execution_count": null,
   "id": "91ff12ae",
   "metadata": {},
   "outputs": [],
   "source": []
  }
 ],
 "metadata": {
  "kernelspec": {
   "display_name": "Python 3 (ipykernel)",
   "language": "python",
   "name": "python3"
  },
  "language_info": {
   "codemirror_mode": {
    "name": "ipython",
    "version": 3
   },
   "file_extension": ".py",
   "mimetype": "text/x-python",
   "name": "python",
   "nbconvert_exporter": "python",
   "pygments_lexer": "ipython3",
   "version": "3.9.7"
  }
 },
 "nbformat": 4,
 "nbformat_minor": 5
}
